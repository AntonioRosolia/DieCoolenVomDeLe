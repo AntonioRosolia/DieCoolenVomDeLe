{
 "cells": [
  {
   "cell_type": "markdown",
   "metadata": {},
   "source": [
    "## MLP with TensorFlow 2.0\n",
    "The objective of the exercise is to implement computational graphs in TensorFlow 2.0 to train and use such an architecture. The constraints we put ourselves is to use **low-level** functions of TensorFlow, i.e. we will not use high-level functions to compose layers and to train the parameters.\n",
    "\n",
    "If you get this error in the execution of the first cell: ` ModuleNotFoundError: No module named 'tensorflow' `, it probably means TensorFlow 2.0 is not installed yet on your machine."
   ]
  },
  {
   "cell_type": "code",
   "execution_count": 1,
   "metadata": {},
   "outputs": [
    {
     "name": "stdout",
     "output_type": "stream",
     "text": [
      "MNIST data set ready. N=60000, D=784, n_classes=10\n"
     ]
    }
   ],
   "source": [
    "#############################\n",
    "# MNIST Dataset Preparation #\n",
    "#############################\n",
    "\n",
    "import numpy as np\n",
    "import tensorflow as tf\n",
    "import matplotlib.pyplot as plt\n",
    "\n",
    "mnist = tf.keras.datasets.mnist\n",
    "(x_train, y_train_vec),(x_test, y_test_vec) = mnist.load_data()\n",
    "x_train, x_test = x_train / 255.0, x_test / 255.0\n",
    "x_train = x_train.reshape(60000, 784)\n",
    "x_test = x_test.reshape(10000, 784)\n",
    "# convert class vectors to binary class matrices\n",
    "y_train = tf.keras.utils.to_categorical(y_train_vec, 10, dtype='float64')\n",
    "y_test = tf.keras.utils.to_categorical(y_test_vec, 10, dtype='float64')\n",
    "N = x_train.shape[0]         # number of samples\n",
    "D = x_train.shape[1]         # dimension of input sample\n",
    "n_classes = y_train.shape[1] # output dim\n",
    "print('MNIST data set ready. N={}, D={}, n_classes={}'.format(N,D,n_classes))"
   ]
  },
  {
   "cell_type": "code",
   "execution_count": 2,
   "metadata": {},
   "outputs": [],
   "source": [
    "# Function to sample a random batch from dataset\n",
    "def next_batch(num, data, labels):\n",
    "    '''\n",
    "    Return a total of `num` random samples and labels. \n",
    "    '''\n",
    "    idx = np.arange(0,len(data))  # create an array of index values\n",
    "    np.random.shuffle(idx)        # shuffle it\n",
    "    idx = idx[:num]               # take the first n indexes = size of batch\n",
    "    data_shuffle = data[idx]      # extract the batch using the random indexes\n",
    "    labels_shuffle = labels[idx]  # extract the labels using the random indexes\n",
    "\n",
    "    return data_shuffle, labels_shuffle"
   ]
  },
  {
   "cell_type": "code",
   "execution_count": 3,
   "metadata": {
    "scrolled": false
   },
   "outputs": [
    {
     "name": "stdout",
     "output_type": "stream",
     "text": [
      "epoch = 0, loss = 53.371737669225105\n",
      "epoch = 1, loss = 40.4128861794632\n",
      "epoch = 2, loss = 37.69692418541751\n",
      "epoch = 3, loss = 35.22259789931115\n",
      "epoch = 4, loss = 33.074851051301174\n",
      "epoch = 5, loss = 31.04948827790961\n",
      "epoch = 6, loss = 29.242082010150536\n",
      "epoch = 7, loss = 27.913974977167484\n",
      "epoch = 8, loss = 26.55273814998674\n",
      "epoch = 9, loss = 25.32682075931008\n",
      "epoch = 10, loss = 24.31382764799379\n",
      "epoch = 11, loss = 23.30969060045229\n",
      "epoch = 12, loss = 22.391840104020325\n",
      "epoch = 13, loss = 21.642140554639123\n",
      "epoch = 14, loss = 20.957618640301796\n",
      "epoch = 15, loss = 20.2808369299848\n",
      "epoch = 16, loss = 19.70459929840204\n",
      "epoch = 17, loss = 19.06271291180454\n",
      "epoch = 18, loss = 18.609543913866826\n",
      "epoch = 19, loss = 18.177047055022744\n",
      "epoch = 20, loss = 17.629859673119828\n",
      "epoch = 21, loss = 17.345047897635474\n",
      "epoch = 22, loss = 16.964046843886198\n",
      "epoch = 23, loss = 16.622196658723716\n",
      "epoch = 24, loss = 16.43980024912954\n",
      "epoch = 25, loss = 16.012872525921605\n",
      "epoch = 26, loss = 15.768472802117598\n",
      "epoch = 27, loss = 15.489752261624554\n",
      "epoch = 28, loss = 15.30914780032506\n",
      "epoch = 29, loss = 15.082253207459006\n",
      "epoch = 30, loss = 14.954357583526525\n",
      "epoch = 31, loss = 14.705467694052446\n",
      "epoch = 32, loss = 14.562837223774782\n",
      "epoch = 33, loss = 14.361872062520451\n",
      "epoch = 34, loss = 14.032268791566256\n",
      "epoch = 35, loss = 14.02481244967829\n",
      "epoch = 36, loss = 13.756221568731139\n",
      "epoch = 37, loss = 13.676941872399173\n",
      "epoch = 38, loss = 13.567047407817558\n",
      "epoch = 39, loss = 13.424942475219735\n",
      "epoch = 40, loss = 13.259183407935845\n",
      "epoch = 41, loss = 13.075170162478393\n",
      "epoch = 42, loss = 13.084042071423907\n",
      "epoch = 43, loss = 12.938548114964574\n",
      "epoch = 44, loss = 12.776237759715135\n",
      "epoch = 45, loss = 12.650808838567794\n",
      "epoch = 46, loss = 12.647943717891991\n",
      "epoch = 47, loss = 12.519610015959353\n",
      "epoch = 48, loss = 12.369100340028604\n",
      "epoch = 49, loss = 12.2693183703399\n"
     ]
    }
   ],
   "source": [
    "##################\n",
    "# Training phase #\n",
    "##################\n",
    "\n",
    "E = 50                # number of epochs\n",
    "B = 128               # batch size\n",
    "N = x_train.shape[0]  # number of samples\n",
    "D = x_train.shape[1]  # dimension of input sample\n",
    "H = 300               # number of neurons\n",
    "A = 0.01              # learning rate alpha\n",
    "\n",
    "##############################################\n",
    "#  COMPLETE CODE BELOW WHERE YOU SEE # ...   #\n",
    "##############################################\n",
    "\n",
    "# Build the computational graph\n",
    "@tf.function # this decorator tells tf that a graph is defined\n",
    "def mlp_train(x, y, alpha):\n",
    "    # define nodes for forward computation for hidden neurons h and output neurons y_pred\n",
    "    # h = ...  output of first layer after ReLu activation\n",
    "    #h = tf.nn.relu(tf.matmul(x, w1)+b1)\n",
    "    h = tf.maximum(tf.matmul(x, w1) + b1, 0.0)\n",
    "    # y_pred = ... output of second layer after sigmoid activation\n",
    "    #y_pred = tf.maximum((tf.matmul(h,w2)+b2),0)\n",
    "    y_pred = tf.sigmoid(tf.matmul(h, w2) + b2)\n",
    "    # define nodes for forward computation for hidden neurons h and output neurons y_pred\n",
    "    #print(\"y: \", y)\n",
    "    #print(\"y_pred: \", y_pred)\n",
    "    diff = y_pred - y\n",
    "    loss = tf.reduce_mean(tf.pow(diff,2))\n",
    "    \n",
    "    # define the gradients\n",
    "    grad_w1, grad_b1, grad_w2, grad_b2 = tf.gradients(ys=loss, xs=[w1,b1,w2,b2])\n",
    "    \n",
    "    # compute the new values of the gradients with the assign method (see slides)\n",
    "    w1.assign(w1 - alpha * grad_w1)\n",
    "    b1.assign(b1 - alpha * grad_b1)\n",
    "    w2.assign(w2 - alpha * grad_w2)\n",
    "    b2.assign(b2 - alpha * grad_b2)\n",
    "    return y_pred, loss\n",
    "\n",
    "# Init the tf.Variablesw 1, b1, w2, b2 following the given examples\n",
    "w1 = tf.Variable(tf.random.truncated_normal((D, H), stddev = 0.1, dtype='float64'))\n",
    "b1 = tf.Variable(tf.constant(0.0, shape=[H], dtype='float64'))\n",
    "w2 = tf.Variable(tf.random.truncated_normal((H, n_classes), stddev = 0.1, dtype='float64'))\n",
    "b2 = tf.Variable(tf.constant(0.0, shape=[n_classes], dtype='float64'))\n",
    "\n",
    "# Run the computational graph\n",
    "J = [] # to store the evolution of loss J for each epoch\n",
    "for epoch in range(E):\n",
    "    J_epoch = 0.0\n",
    "    for _ in range(int(N/B)): # number of batches to visit for 1 epoch\n",
    "        # get batches calling the next_batch method provided above\n",
    "        x_train_batch, y_train_batch = next_batch(B,x_train, y_train)\n",
    "        #print(\"y_train_batch: \", y_train_batch)\n",
    "        with tf.device('/CPU:0'):  # change to /GPU:0 to move it to GPU\n",
    "            # call the graph with the batched input, target and alpha A\n",
    "             out = mlp_train(x_train_batch, y_train_batch, A)\n",
    "        y_pred, loss_val = out\n",
    "        J_epoch += loss_val\n",
    "    J.append(J_epoch)\n",
    "    print(\"epoch = {}, loss = {}\".format(epoch, J_epoch))"
   ]
  },
  {
   "cell_type": "code",
   "execution_count": 4,
   "metadata": {},
   "outputs": [
    {
     "data": {
      "text/plain": [
       "[<matplotlib.lines.Line2D at 0x1e34d79a518>]"
      ]
     },
     "execution_count": 4,
     "metadata": {},
     "output_type": "execute_result"
    },
    {
     "data": {
      "image/png": "[encoded data removed]",
      "text/plain": [
       "<Figure size 432x288 with 1 Axes>"
      ]
     },
     "metadata": {
      "needs_background": "light"
     },
     "output_type": "display_data"
    }
   ],
   "source": [
    "# Plot the evolution of the loss\n",
    "plt.plot(J)"
   ]
  },
  {
   "cell_type": "code",
   "execution_count": 5,
   "metadata": {},
   "outputs": [
    {
     "name": "stdout",
     "output_type": "stream",
     "text": [
      "Forward pass on test set done.\n"
     ]
    }
   ],
   "source": [
    "#################\n",
    "# Testing phase #\n",
    "#################\n",
    "\n",
    "N = x_test.shape[0]  # number of samples\n",
    "D = x_test.shape[1]  # dimension of input sample\n",
    "\n",
    "##############################################\n",
    "#  COMPLETE CODE BELOW WHERE YOU SEE # ...   #\n",
    "##############################################\n",
    "# Build the computational graph\n",
    "@tf.function # this decorator tells tf that a graph is defined\n",
    "def mlp_test(x, y):\n",
    "    #h = tf.nn.relu(tf.matmul(x, w1)+b1)\n",
    "    #y_pred = tf.maximum((tf.matmul(h,w2)+b2),0)\n",
    "    h = tf.maximum(tf.matmul(x, w1) + b1, 0.0)\n",
    "    y_pred = tf.sigmoid(tf.matmul(h, w2) + b2)\n",
    "    return y_pred\n",
    "\n",
    "# Run the computational graph\n",
    "with tf.device('/CPU:0'):  # change to /GPU:0 to move it to GPU\n",
    "    y_pred_test = mlp_test(x_test, y_test)\n",
    "\n",
    "print('Forward pass on test set done.')\n",
    "# At this stage, y_pred_test should contain the matrix of outputs on the test set with shape (N_test, 10)"
   ]
  },
  {
   "cell_type": "code",
   "execution_count": 6,
   "metadata": {},
   "outputs": [
    {
     "name": "stdout",
     "output_type": "stream",
     "text": [
      "# samples  :  10000\n",
      "# correct  :  8810\n",
      "# missed   :  1190\n",
      "accuracy   :  88.10 %\n",
      "error rate :  11.90 %\n"
     ]
    }
   ],
   "source": [
    "# compute accuracy\n",
    "y_winner = np.argmax(y_pred_test, axis=1)\n",
    "N_test = y_winner.size\n",
    "num_correct = (y_winner == y_test_vec).sum()\n",
    "num_missed = N_test - num_correct\n",
    "accuracy = num_correct * 1.0 / N_test\n",
    "error_rate = num_missed * 1.0 / N_test\n",
    "print('# samples  : ', N_test)\n",
    "print('# correct  : ', num_correct)\n",
    "print('# missed   : ', num_missed)\n",
    "print('accuracy   :  %2.2f %%'% (accuracy*100.0))\n",
    "print('error rate :  %2.2f %%'% (error_rate*100.0))"
   ]
  },
  {
   "cell_type": "markdown",
   "metadata": {},
   "source": [
    "# Exercise 4"
   ]
  },
  {
   "cell_type": "code",
   "execution_count": 7,
   "metadata": {},
   "outputs": [],
   "source": [
    "import tensorflow as tf"
   ]
  },
  {
   "cell_type": "code",
   "execution_count": 8,
   "metadata": {},
   "outputs": [
    {
     "name": "stdout",
     "output_type": "stream",
     "text": [
      "MNIST data set ready. N=60000, D=784, n_classes=10\n"
     ]
    }
   ],
   "source": [
    "#############################\n",
    "# MNIST Dataset Preparation #\n",
    "#############################\n",
    "\n",
    "import numpy as np\n",
    "import tensorflow as tf\n",
    "import matplotlib.pyplot as plt\n",
    "\n",
    "mnist = tf.keras.datasets.mnist\n",
    "(x_train, y_train_vec),(x_test, y_test_vec) = mnist.load_data()\n",
    "x_train, x_test = x_train / 255.0, x_test / 255.0\n",
    "x_train = x_train.reshape(60000, 784)\n",
    "x_test = x_test.reshape(10000, 784)\n",
    "# convert class vectors to binary class matrices\n",
    "y_train = tf.keras.utils.to_categorical(y_train_vec, 10, dtype='float64')\n",
    "y_test = tf.keras.utils.to_categorical(y_test_vec, 10, dtype='float64')\n",
    "N = x_train.shape[0]         # number of samples\n",
    "D = x_train.shape[1]         # dimension of input sample\n",
    "n_classes = y_train.shape[1] # output dim\n",
    "print('MNIST data set ready. N={}, D={}, n_classes={}'.format(N,D,n_classes))"
   ]
  },
  {
   "cell_type": "code",
   "execution_count": 9,
   "metadata": {},
   "outputs": [],
   "source": [
    "model = tf.keras.models.Sequential()\n",
    "model.add(tf.keras.layers.Dense(300, input_shape=(D,), use_bias=True, activation='relu'))\n",
    "model.add(tf.keras.layers.Dense(10, input_shape=(D,), use_bias=True, activation='sigmoid'))"
   ]
  },
  {
   "cell_type": "code",
   "execution_count": 10,
   "metadata": {},
   "outputs": [
    {
     "name": "stdout",
     "output_type": "stream",
     "text": [
      "Model: \"sequential\"\n",
      "_________________________________________________________________\n",
      "Layer (type)                 Output Shape              Param #   \n",
      "=================================================================\n",
      "dense (Dense)                (None, 300)               235500    \n",
      "_________________________________________________________________\n",
      "dense_1 (Dense)              (None, 10)                3010      \n",
      "=================================================================\n",
      "Total params: 238,510\n",
      "Trainable params: 238,510\n",
      "Non-trainable params: 0\n",
      "_________________________________________________________________\n"
     ]
    }
   ],
   "source": [
    "model.summary()"
   ]
  },
  {
   "cell_type": "code",
   "execution_count": 11,
   "metadata": {},
   "outputs": [],
   "source": [
    "sgd = tf.keras.optimizers.SGD(learning_rate=A)\n",
    "model.compile(optimizers=sgd, loss='mse', metrics=['accuracy'])"
   ]
  },
  {
   "cell_type": "code",
   "execution_count": 107,
   "metadata": {},
   "outputs": [],
   "source": [
    "#history1 = model.fit(x_train, y_train, epochs = E)"
   ]
  },
  {
   "cell_type": "code",
   "execution_count": 12,
   "metadata": {},
   "outputs": [
    {
     "name": "stdout",
     "output_type": "stream",
     "text": [
      "Train on 60000 samples, validate on 10000 samples\n",
      "Epoch 1/50\n",
      "60000/60000 [==============================] - 4s 62us/sample - loss: 0.0125 - accuracy: 0.9304 - val_loss: 0.0070 - val_accuracy: 0.9611\n",
      "Epoch 2/50\n",
      "60000/60000 [==============================] - 3s 53us/sample - loss: 0.0056 - accuracy: 0.9690 - val_loss: 0.0049 - val_accuracy: 0.9743\n",
      "Epoch 3/50\n",
      "60000/60000 [==============================] - 3s 46us/sample - loss: 0.0042 - accuracy: 0.9776 - val_loss: 0.0043 - val_accuracy: 0.9768\n",
      "Epoch 4/50\n",
      "60000/60000 [==============================] - 3s 43us/sample - loss: 0.0033 - accuracy: 0.9826 - val_loss: 0.0040 - val_accuracy: 0.9790\n",
      "Epoch 5/50\n",
      "60000/60000 [==============================] - 3s 45us/sample - loss: 0.0028 - accuracy: 0.9856 - val_loss: 0.0039 - val_accuracy: 0.9791 0s - loss: 0 - ETA: 0s - loss: 0.0027 - accura\n",
      "Epoch 6/50\n",
      "60000/60000 [==============================] - 3s 48us/sample - loss: 0.0024 - accuracy: 0.9873 - val_loss: 0.0036 - val_accuracy: 0.9807\n",
      "Epoch 7/50\n",
      "60000/60000 [==============================] - 3s 50us/sample - loss: 0.0021 - accuracy: 0.9889 - val_loss: 0.0038 - val_accuracy: 0.9797\n",
      "Epoch 8/50\n",
      "60000/60000 [==============================] - 3s 50us/sample - loss: 0.0018 - accuracy: 0.9902 - val_loss: 0.0036 - val_accuracy: 0.9815\n",
      "Epoch 9/50\n",
      "60000/60000 [==============================] - 3s 49us/sample - loss: 0.0016 - accuracy: 0.9912 - val_loss: 0.0035 - val_accuracy: 0.9829\n",
      "Epoch 10/50\n",
      "60000/60000 [==============================] - 3s 49us/sample - loss: 0.0015 - accuracy: 0.9922 - val_loss: 0.0035 - val_accuracy: 0.9816\n",
      "Epoch 11/50\n",
      "60000/60000 [==============================] - 3s 51us/sample - loss: 0.0013 - accuracy: 0.9930 - val_loss: 0.0037 - val_accuracy: 0.9803\n",
      "Epoch 12/50\n",
      "60000/60000 [==============================] - 3s 51us/sample - loss: 0.0012 - accuracy: 0.9934 - val_loss: 0.0037 - val_accuracy: 0.9810\n",
      "Epoch 13/50\n",
      "60000/60000 [==============================] - 3s 49us/sample - loss: 0.0011 - accuracy: 0.9938 - val_loss: 0.0036 - val_accuracy: 0.9821\n",
      "Epoch 14/50\n",
      "60000/60000 [==============================] - 3s 49us/sample - loss: 0.0010 - accuracy: 0.9940 - val_loss: 0.0035 - val_accuracy: 0.9826\n",
      "Epoch 15/50\n",
      "60000/60000 [==============================] - 3s 50us/sample - loss: 9.5505e-04 - accuracy: 0.9947 - val_loss: 0.0035 - val_accuracy: 0.9824\n",
      "Epoch 16/50\n",
      "60000/60000 [==============================] - 3s 49us/sample - loss: 8.7660e-04 - accuracy: 0.9946 - val_loss: 0.0034 - val_accuracy: 0.9820\n",
      "Epoch 17/50\n",
      "60000/60000 [==============================] - 3s 49us/sample - loss: 8.0073e-04 - accuracy: 0.9951 - val_loss: 0.0036 - val_accuracy: 0.9833\n",
      "Epoch 18/50\n",
      "60000/60000 [==============================] - 3s 53us/sample - loss: 7.6427e-04 - accuracy: 0.9954 - val_loss: 0.0034 - val_accuracy: 0.9829\n",
      "Epoch 19/50\n",
      "60000/60000 [==============================] - 3s 47us/sample - loss: 7.2280e-04 - accuracy: 0.9955 - val_loss: 0.0036 - val_accuracy: 0.9825\n",
      "Epoch 20/50\n",
      "60000/60000 [==============================] - 3s 47us/sample - loss: 6.8492e-04 - accuracy: 0.9957 - val_loss: 0.0034 - val_accuracy: 0.9836\n",
      "Epoch 21/50\n",
      "60000/60000 [==============================] - 3s 45us/sample - loss: 6.4496e-04 - accuracy: 0.9958 - val_loss: 0.0036 - val_accuracy: 0.9828\n",
      "Epoch 22/50\n",
      "60000/60000 [==============================] - 3s 44us/sample - loss: 6.1216e-04 - accuracy: 0.9959 - val_loss: 0.0036 - val_accuracy: 0.9826\n",
      "Epoch 23/50\n",
      "60000/60000 [==============================] - 3s 46us/sample - loss: 5.7716e-04 - accuracy: 0.9961 - val_loss: 0.0037 - val_accuracy: 0.9819\n",
      "Epoch 24/50\n",
      "60000/60000 [==============================] - 3s 44us/sample - loss: 5.6652e-04 - accuracy: 0.9962 - val_loss: 0.0035 - val_accuracy: 0.9830\n",
      "Epoch 25/50\n",
      "60000/60000 [==============================] - 3s 46us/sample - loss: 5.2179e-04 - accuracy: 0.9963 - val_loss: 0.0035 - val_accuracy: 0.9835\n",
      "Epoch 26/50\n",
      "60000/60000 [==============================] - 3s 46us/sample - loss: 5.2648e-04 - accuracy: 0.9964 - val_loss: 0.0035 - val_accuracy: 0.9826\n",
      "Epoch 27/50\n",
      "60000/60000 [==============================] - 3s 54us/sample - loss: 4.9308e-04 - accuracy: 0.9965 - val_loss: 0.0035 - val_accuracy: 0.9834\n",
      "Epoch 28/50\n",
      "60000/60000 [==============================] - 3s 49us/sample - loss: 4.7196e-04 - accuracy: 0.9966 - val_loss: 0.0036 - val_accuracy: 0.9828\n",
      "Epoch 29/50\n",
      "60000/60000 [==============================] - 3s 45us/sample - loss: 4.5758e-04 - accuracy: 0.9966 - val_loss: 0.0037 - val_accuracy: 0.9817\n",
      "Epoch 30/50\n",
      "60000/60000 [==============================] - 3s 52us/sample - loss: 4.4585e-04 - accuracy: 0.9970 - val_loss: 0.0035 - val_accuracy: 0.9832\n",
      "Epoch 31/50\n",
      "60000/60000 [==============================] - 4s 74us/sample - loss: 4.2302e-04 - accuracy: 0.9969 - val_loss: 0.0036 - val_accuracy: 0.9831\n",
      "Epoch 32/50\n",
      "60000/60000 [==============================] - 3s 44us/sample - loss: 4.0747e-04 - accuracy: 0.9969 - val_loss: 0.0037 - val_accuracy: 0.9833\n",
      "Epoch 33/50\n",
      "60000/60000 [==============================] - 3s 54us/sample - loss: 4.0161e-04 - accuracy: 0.9970 - val_loss: 0.0036 - val_accuracy: 0.9830\n",
      "Epoch 34/50\n",
      "60000/60000 [==============================] - 3s 43us/sample - loss: 3.9418e-04 - accuracy: 0.9971 - val_loss: 0.0037 - val_accuracy: 0.9825\n",
      "Epoch 35/50\n",
      "60000/60000 [==============================] - 3s 43us/sample - loss: 3.8620e-04 - accuracy: 0.9972 - val_loss: 0.0037 - val_accuracy: 0.9835\n",
      "Epoch 36/50\n",
      "60000/60000 [==============================] - 3s 48us/sample - loss: 3.6760e-04 - accuracy: 0.9973 - val_loss: 0.0037 - val_accuracy: 0.9824\n",
      "Epoch 37/50\n",
      "60000/60000 [==============================] - 3s 47us/sample - loss: 3.5857e-04 - accuracy: 0.9973 - val_loss: 0.0036 - val_accuracy: 0.9827\n",
      "Epoch 38/50\n",
      "60000/60000 [==============================] - 3s 45us/sample - loss: 3.5176e-04 - accuracy: 0.9973 - val_loss: 0.0037 - val_accuracy: 0.9835\n",
      "Epoch 39/50\n",
      "60000/60000 [==============================] - 3s 46us/sample - loss: 3.4213e-04 - accuracy: 0.9974 - val_loss: 0.0036 - val_accuracy: 0.9828\n",
      "Epoch 40/50\n",
      "60000/60000 [==============================] - 3s 44us/sample - loss: 3.3624e-04 - accuracy: 0.9973 - val_loss: 0.0038 - val_accuracy: 0.9835\n",
      "Epoch 41/50\n",
      "60000/60000 [==============================] - 3s 43us/sample - loss: 3.2678e-04 - accuracy: 0.9974 - val_loss: 0.0036 - val_accuracy: 0.9828\n",
      "Epoch 42/50\n",
      "60000/60000 [==============================] - 3s 44us/sample - loss: 3.1918e-04 - accuracy: 0.9974 - val_loss: 0.0037 - val_accuracy: 0.9825\n",
      "Epoch 43/50\n",
      "60000/60000 [==============================] - 3s 46us/sample - loss: 3.1117e-04 - accuracy: 0.9975 - val_loss: 0.0037 - val_accuracy: 0.9834\n",
      "Epoch 44/50\n",
      "60000/60000 [==============================] - 4s 60us/sample - loss: 3.0613e-04 - accuracy: 0.9975 - val_loss: 0.0036 - val_accuracy: 0.9826\n",
      "Epoch 45/50\n",
      "60000/60000 [==============================] - 3s 49us/sample - loss: 2.9775e-04 - accuracy: 0.9975 - val_loss: 0.0037 - val_accuracy: 0.9837\n",
      "Epoch 46/50\n",
      "60000/60000 [==============================] - 3s 52us/sample - loss: 2.9477e-04 - accuracy: 0.9975 - val_loss: 0.0037 - val_accuracy: 0.9837\n",
      "Epoch 47/50\n",
      "60000/60000 [==============================] - 3s 54us/sample - loss: 2.9845e-04 - accuracy: 0.9976 - val_loss: 0.0037 - val_accuracy: 0.9839\n",
      "Epoch 48/50\n",
      "60000/60000 [==============================] - 3s 44us/sample - loss: 2.8752e-04 - accuracy: 0.9976 - val_loss: 0.0037 - val_accuracy: 0.9830\n",
      "Epoch 49/50\n",
      "60000/60000 [==============================] - 3s 49us/sample - loss: 2.8585e-04 - accuracy: 0.9976 - val_loss: 0.0036 - val_accuracy: 0.9834\n",
      "Epoch 50/50\n",
      "60000/60000 [==============================] - 3s 43us/sample - loss: 2.8212e-04 - accuracy: 0.9976 - val_loss: 0.0037 - val_accuracy: 0.9832\n"
     ]
    }
   ],
   "source": [
    "history = model.fit(x_train,y_train,epochs=E,verbose=1,validation_data=(x_test,y_test))"
   ]
  },
  {
   "cell_type": "code",
   "execution_count": 13,
   "metadata": {},
   "outputs": [
    {
     "name": "stdout",
     "output_type": "stream",
     "text": [
      "10000/1 - 0s - loss: 0.0018 - accuracy: 0.9832\n"
     ]
    },
    {
     "data": {
      "text/plain": [
       "[0.0036688411476642683, 0.9832]"
      ]
     },
     "execution_count": 13,
     "metadata": {},
     "output_type": "execute_result"
    }
   ],
   "source": [
    "model.evaluate(x_test, y_test, verbose=2)"
   ]
  },
  {
   "cell_type": "code",
   "execution_count": 14,
   "metadata": {},
   "outputs": [
    {
     "data": {
      "image/png": "[encoded data removed]",
      "text/plain": [
       "<Figure size 432x288 with 1 Axes>"
      ]
     },
     "metadata": {
      "needs_background": "light"
     },
     "output_type": "display_data"
    }
   ],
   "source": [
    "plt.plot(history.history['loss'], label='Training')\n",
    "plt.plot(history.history['val_loss'], label='Testing')\n",
    "plt.legend()\n",
    "plt.grid()"
   ]
  },
  {
   "cell_type": "markdown",
   "metadata": {},
   "source": [
    "## Comparison\n",
    "- Accuracy Exercise 3 = 88.22 %\n",
    "- Accuracy Exercise 4 = 98.28 %"
   ]
  },
  {
   "cell_type": "markdown",
   "metadata": {},
   "source": [
    "The accuracy is higher, if we use keras. Also it's so much easier to use.\n",
    "\n",
    "Performance is similiar in this example, but it seems, that if you use keras it is maybe a bit less performant than pure Tensorflow. (https://wrosinski.github.io/deep-learning-frameworks/)"
   ]
  }
 ],
 "metadata": {
  "kernelspec": {
   "display_name": "Python 3",
   "language": "python",
   "name": "python3"
  },
  "language_info": {
   "codemirror_mode": {
    "name": "ipython",
    "version": 3
   },
   "file_extension": ".py",
   "mimetype": "text/x-python",
   "name": "python",
   "nbconvert_exporter": "python",
   "pygments_lexer": "ipython3",
   "version": "3.7.3"
  }
 },
 "nbformat": 4,
 "nbformat_minor": 2
}
