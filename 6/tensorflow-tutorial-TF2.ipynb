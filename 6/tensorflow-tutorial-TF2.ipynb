{
 "cells": [
  {
   "cell_type": "markdown",
   "metadata": {},
   "source": [
    "## Simple graph example"
   ]
  },
  {
   "cell_type": "code",
   "execution_count": 1,
   "metadata": {},
   "outputs": [
    {
     "name": "stdout",
     "output_type": "stream",
     "text": [
      "6.717008537800067\n",
      "[[ 0.76103773  0.12167502  0.44386323  0.33367433]\n",
      " [ 1.49407907 -0.20515826  0.3130677  -0.85409574]\n",
      " [-2.55298982  0.6536186   0.8644362  -0.74216502]]\n",
      "[[ 1.76405235  0.40015721  0.97873798  2.2408932 ]\n",
      " [ 1.86755799 -0.97727788  0.95008842 -0.15135721]\n",
      " [-0.10321885  0.4105985   0.14404357  1.45427351]]\n",
      "[[1. 1. 1. 1.]\n",
      " [1. 1. 1. 1.]\n",
      " [1. 1. 1. 1.]]\n"
     ]
    }
   ],
   "source": [
    "import numpy as np\n",
    "\n",
    "# simple computational graph - numpy\n",
    "N, D = 3, 4\n",
    "np.random.seed(0)\n",
    "x = np.random.randn(N, D)\n",
    "y = np.random.randn(N, D)\n",
    "z = np.random.randn(N, D)\n",
    "\n",
    "a = x * y  # shape (N, D)\n",
    "b = a + z  # shape (N, D)\n",
    "c = np.sum(b)\n",
    "\n",
    "grad_c = 1.0\n",
    "grad_b = grad_c * np.ones((N,D))\n",
    "grad_a = grad_b.copy()\n",
    "grad_z = grad_b.copy()\n",
    "grad_x = grad_a * y\n",
    "grad_y = grad_a * x\n",
    "\n",
    "print(c)\n",
    "print(grad_x)\n",
    "print(grad_y)\n",
    "print(grad_z)"
   ]
  },
  {
   "cell_type": "code",
   "execution_count": 2,
   "metadata": {},
   "outputs": [
    {
     "ename": "InternalError",
     "evalue": "cudaGetDevice() failed. Status: cudaGetErrorString symbol not found.",
     "output_type": "error",
     "traceback": [
      "\u001b[1;31m---------------------------------------------------------------------------\u001b[0m",
      "\u001b[1;31mInternalError\u001b[0m                             Traceback (most recent call last)",
      "\u001b[1;32m<ipython-input-2-e5a5c76fe314>\u001b[0m in \u001b[0;36m<module>\u001b[1;34m\u001b[0m\n\u001b[0;32m     19\u001b[0m \u001b[0mz\u001b[0m \u001b[1;33m=\u001b[0m \u001b[0mnp\u001b[0m\u001b[1;33m.\u001b[0m\u001b[0mrandom\u001b[0m\u001b[1;33m.\u001b[0m\u001b[0mrandn\u001b[0m\u001b[1;33m(\u001b[0m\u001b[0mN\u001b[0m\u001b[1;33m,\u001b[0m \u001b[0mD\u001b[0m\u001b[1;33m)\u001b[0m\u001b[1;33m\u001b[0m\u001b[1;33m\u001b[0m\u001b[0m\n\u001b[0;32m     20\u001b[0m \u001b[1;33m\u001b[0m\u001b[0m\n\u001b[1;32m---> 21\u001b[1;33m \u001b[0mc_val\u001b[0m\u001b[1;33m,\u001b[0m \u001b[0mgrad_x_val\u001b[0m\u001b[1;33m,\u001b[0m \u001b[0mgrad_y_val\u001b[0m\u001b[1;33m,\u001b[0m \u001b[0mgrad_z_val\u001b[0m \u001b[1;33m=\u001b[0m \u001b[0msimple_graph\u001b[0m\u001b[1;33m(\u001b[0m\u001b[0mx\u001b[0m\u001b[1;33m,\u001b[0m \u001b[0my\u001b[0m\u001b[1;33m,\u001b[0m \u001b[0mz\u001b[0m\u001b[1;33m)\u001b[0m\u001b[1;33m\u001b[0m\u001b[1;33m\u001b[0m\u001b[0m\n\u001b[0m\u001b[0;32m     22\u001b[0m \u001b[1;33m\u001b[0m\u001b[0m\n\u001b[0;32m     23\u001b[0m \u001b[0mprint\u001b[0m\u001b[1;33m(\u001b[0m\u001b[1;34m'c_val ='\u001b[0m\u001b[1;33m,\u001b[0m \u001b[0mc_val\u001b[0m\u001b[1;33m)\u001b[0m\u001b[1;33m\u001b[0m\u001b[1;33m\u001b[0m\u001b[0m\n",
      "\u001b[1;32mC:\\ProgramData\\Anaconda3\\lib\\site-packages\\tensorflow_core\\python\\eager\\def_function.py\u001b[0m in \u001b[0;36m__call__\u001b[1;34m(self, *args, **kwds)\u001b[0m\n\u001b[0;32m    450\u001b[0m   \u001b[1;32mdef\u001b[0m \u001b[0m__call__\u001b[0m\u001b[1;33m(\u001b[0m\u001b[0mself\u001b[0m\u001b[1;33m,\u001b[0m \u001b[1;33m*\u001b[0m\u001b[0margs\u001b[0m\u001b[1;33m,\u001b[0m \u001b[1;33m**\u001b[0m\u001b[0mkwds\u001b[0m\u001b[1;33m)\u001b[0m\u001b[1;33m:\u001b[0m\u001b[1;33m\u001b[0m\u001b[1;33m\u001b[0m\u001b[0m\n\u001b[0;32m    451\u001b[0m     \u001b[1;34m\"\"\"Calls the graph function and warn too frequent tracings.\"\"\"\u001b[0m\u001b[1;33m\u001b[0m\u001b[1;33m\u001b[0m\u001b[0m\n\u001b[1;32m--> 452\u001b[1;33m     \u001b[0mcontext\u001b[0m\u001b[1;33m.\u001b[0m\u001b[0mensure_initialized\u001b[0m\u001b[1;33m(\u001b[0m\u001b[1;33m)\u001b[0m\u001b[1;33m\u001b[0m\u001b[1;33m\u001b[0m\u001b[0m\n\u001b[0m\u001b[0;32m    453\u001b[0m     \u001b[1;32mif\u001b[0m \u001b[0mRUN_FUNCTIONS_EAGERLY\u001b[0m\u001b[1;33m:\u001b[0m\u001b[1;33m\u001b[0m\u001b[1;33m\u001b[0m\u001b[0m\n\u001b[0;32m    454\u001b[0m       \u001b[1;32mreturn\u001b[0m \u001b[0mself\u001b[0m\u001b[1;33m.\u001b[0m\u001b[0m_python_function\u001b[0m\u001b[1;33m(\u001b[0m\u001b[1;33m*\u001b[0m\u001b[0margs\u001b[0m\u001b[1;33m,\u001b[0m \u001b[1;33m**\u001b[0m\u001b[0mkwds\u001b[0m\u001b[1;33m)\u001b[0m\u001b[1;33m\u001b[0m\u001b[1;33m\u001b[0m\u001b[0m\n",
      "\u001b[1;32mC:\\ProgramData\\Anaconda3\\lib\\site-packages\\tensorflow_core\\python\\eager\\context.py\u001b[0m in \u001b[0;36mensure_initialized\u001b[1;34m()\u001b[0m\n\u001b[0;32m   1581\u001b[0m \u001b[1;32mdef\u001b[0m \u001b[0mensure_initialized\u001b[0m\u001b[1;33m(\u001b[0m\u001b[1;33m)\u001b[0m\u001b[1;33m:\u001b[0m\u001b[1;33m\u001b[0m\u001b[1;33m\u001b[0m\u001b[0m\n\u001b[0;32m   1582\u001b[0m   \u001b[1;34m\"\"\"Initialize the context.\"\"\"\u001b[0m\u001b[1;33m\u001b[0m\u001b[1;33m\u001b[0m\u001b[0m\n\u001b[1;32m-> 1583\u001b[1;33m   \u001b[0mcontext\u001b[0m\u001b[1;33m(\u001b[0m\u001b[1;33m)\u001b[0m\u001b[1;33m.\u001b[0m\u001b[0mensure_initialized\u001b[0m\u001b[1;33m(\u001b[0m\u001b[1;33m)\u001b[0m\u001b[1;33m\u001b[0m\u001b[1;33m\u001b[0m\u001b[0m\n\u001b[0m\u001b[0;32m   1584\u001b[0m \u001b[1;33m\u001b[0m\u001b[0m\n\u001b[0;32m   1585\u001b[0m \u001b[1;33m\u001b[0m\u001b[0m\n",
      "\u001b[1;32mC:\\ProgramData\\Anaconda3\\lib\\site-packages\\tensorflow_core\\python\\eager\\context.py\u001b[0m in \u001b[0;36mensure_initialized\u001b[1;34m(self)\u001b[0m\n\u001b[0;32m    490\u001b[0m         \u001b[1;32mif\u001b[0m \u001b[0mself\u001b[0m\u001b[1;33m.\u001b[0m\u001b[0m_default_is_async\u001b[0m \u001b[1;33m==\u001b[0m \u001b[0mASYNC\u001b[0m\u001b[1;33m:\u001b[0m\u001b[1;33m\u001b[0m\u001b[1;33m\u001b[0m\u001b[0m\n\u001b[0;32m    491\u001b[0m           \u001b[0mpywrap_tensorflow\u001b[0m\u001b[1;33m.\u001b[0m\u001b[0mTFE_ContextOptionsSetAsync\u001b[0m\u001b[1;33m(\u001b[0m\u001b[0mopts\u001b[0m\u001b[1;33m,\u001b[0m \u001b[1;32mTrue\u001b[0m\u001b[1;33m)\u001b[0m\u001b[1;33m\u001b[0m\u001b[1;33m\u001b[0m\u001b[0m\n\u001b[1;32m--> 492\u001b[1;33m         \u001b[0mself\u001b[0m\u001b[1;33m.\u001b[0m\u001b[0m_context_handle\u001b[0m \u001b[1;33m=\u001b[0m \u001b[0mpywrap_tensorflow\u001b[0m\u001b[1;33m.\u001b[0m\u001b[0mTFE_NewContext\u001b[0m\u001b[1;33m(\u001b[0m\u001b[0mopts\u001b[0m\u001b[1;33m)\u001b[0m\u001b[1;33m\u001b[0m\u001b[1;33m\u001b[0m\u001b[0m\n\u001b[0m\u001b[0;32m    493\u001b[0m       \u001b[1;32mfinally\u001b[0m\u001b[1;33m:\u001b[0m\u001b[1;33m\u001b[0m\u001b[1;33m\u001b[0m\u001b[0m\n\u001b[0;32m    494\u001b[0m         \u001b[0mpywrap_tensorflow\u001b[0m\u001b[1;33m.\u001b[0m\u001b[0mTFE_DeleteContextOptions\u001b[0m\u001b[1;33m(\u001b[0m\u001b[0mopts\u001b[0m\u001b[1;33m)\u001b[0m\u001b[1;33m\u001b[0m\u001b[1;33m\u001b[0m\u001b[0m\n",
      "\u001b[1;31mInternalError\u001b[0m: cudaGetDevice() failed. Status: cudaGetErrorString symbol not found."
     ]
    }
   ],
   "source": [
    "#TENSORFLOW 2.0\n",
    "import numpy as np\n",
    "import tensorflow as tf\n",
    "\n",
    "# simple computational graph with tensorflow\n",
    "\n",
    "@tf.function # this decorator tells tf that a graph is defined\n",
    "def simple_graph(x, y, z):\n",
    "    a = x * y\n",
    "    b = a + z\n",
    "    c = tf.reduce_sum(input_tensor=b)\n",
    "    grad_x, grad_y, grad_z = tf.gradients(ys=c, xs=[x, y, z])\n",
    "    return c, grad_x, grad_y, grad_z\n",
    "\n",
    "N, D = 3, 4\n",
    "np.random.seed(0)\n",
    "x = np.random.randn(N, D)\n",
    "y = np.random.randn(N, D)\n",
    "z = np.random.randn(N, D)\n",
    "\n",
    "c_val, grad_x_val, grad_y_val, grad_z_val = simple_graph(x, y, z)\n",
    "\n",
    "print('c_val =', c_val)\n",
    "print('grad_x_val =', grad_x_val)\n",
    "print('grad_y_val =', grad_y_val)\n",
    "print('grad_z_val =', grad_z_val)"
   ]
  },
  {
   "cell_type": "code",
   "execution_count": 3,
   "metadata": {},
   "outputs": [
    {
     "data": {
      "text/plain": [
       "'2.0.0'"
      ]
     },
     "execution_count": 3,
     "metadata": {},
     "output_type": "execute_result"
    }
   ],
   "source": [
    "tf.__version__"
   ]
  },
  {
   "cell_type": "code",
   "execution_count": 4,
   "metadata": {},
   "outputs": [
    {
     "name": "stdout",
     "output_type": "stream",
     "text": [
      "Num GPUs Available:  1\n",
      "Num CPUs Available:  1\n"
     ]
    }
   ],
   "source": [
    "import tensorflow as tf\n",
    "print(\"Num GPUs Available: \", len(tf.config.experimental.list_physical_devices('GPU')))\n",
    "print(\"Num CPUs Available: \", len(tf.config.experimental.list_physical_devices('CPU')))"
   ]
  },
  {
   "cell_type": "code",
   "execution_count": null,
   "metadata": {},
   "outputs": [],
   "source": [
    "# Just as example to show how it looks in PyTorch \n",
    "# You can skip this cell if you don't want to install PyTorch\n",
    "import torch\n",
    "from torch.autograd import Variable\n",
    "\n",
    "# simple computational graph - torch on gpu\n",
    "N, D = 3, 4\n",
    "\n",
    "x = Variable(torch.randn(N, D).cuda(), \n",
    "             requires_grad=True)\n",
    "y = Variable(torch.randn(N, D).cuda(), \n",
    "             requires_grad=True)\n",
    "z = Variable(torch.randn(N, D).cuda(), \n",
    "             requires_grad=True)\n",
    "\n",
    "a = x * y\n",
    "b = a + z\n",
    "c = torch.sum(b)\n",
    "\n",
    "c.backward()\n",
    "\n",
    "print(x.grad.data)\n",
    "print(y.grad.data)\n",
    "print(z.grad.data)"
   ]
  },
  {
   "cell_type": "markdown",
   "metadata": {},
   "source": [
    "## A more complex example of graph\n",
    "\n",
    "### Utility function - plot history"
   ]
  },
  {
   "cell_type": "code",
   "execution_count": 4,
   "metadata": {},
   "outputs": [],
   "source": [
    "import matplotlib.pyplot as plt\n",
    "\n",
    "def plot_history(epoch_vector, losses_list, name_list, y_label):\n",
    "    # plt.figure(figsize=(12,8))\n",
    "    for i, losses in enumerate(losses_list):\n",
    "        plt.plot(epoch_vector, losses, label=name_list[i])\n",
    "    plt.xlabel('Epochs')\n",
    "    plt.ylabel(y_label)\n",
    "    plt.legend()\n",
    "    plt.show()"
   ]
  },
  {
   "cell_type": "markdown",
   "metadata": {},
   "source": [
    "### Step 0: get some data"
   ]
  },
  {
   "cell_type": "code",
   "execution_count": 5,
   "metadata": {},
   "outputs": [
    {
     "name": "stdout",
     "output_type": "stream",
     "text": [
      "MNIST data set ready. N=60000, D=784, n_classes=10\n"
     ]
    }
   ],
   "source": [
    "# First get MNIST data and prepare it\n",
    "mnist = tf.keras.datasets.mnist\n",
    "(x_train, y_train_vec),(x_test, y_test_vec) = mnist.load_data()\n",
    "x_train, x_test = x_train / 255.0, x_test / 255.0\n",
    "x_train = x_train.reshape(60000, 784)\n",
    "x_test = x_test.reshape(10000, 784)\n",
    "# convert class vectors to binary class matrices\n",
    "y_train = tf.keras.utils.to_categorical(y_train_vec, 10, dtype='float64')\n",
    "y_test = tf.keras.utils.to_categorical(y_test_vec, 10, dtype='float64')\n",
    "N = x_train.shape[0]         # number of samples\n",
    "D = x_train.shape[1]         # dimension of input sample\n",
    "n_classes = y_train.shape[1] # output dim\n",
    "print('MNIST data set ready. N={}, D={}, n_classes={}'.format(N,D,n_classes))"
   ]
  },
  {
   "cell_type": "markdown",
   "metadata": {},
   "source": [
    "### Step 1\n",
    "This graph is actually creating the necessary nodes to:\n",
    "1. Do the forward pass (line 8)\n",
    "2. Compute the MSE loss (lines 9 and 10)\n",
    "3. Compute the gradients of the loss w.r.t. the weights (line 11)\n",
    "\n",
    "In line 20, we init the weights (outside of the graph, using numpy). In line 23 we use the graph, passing the whole train set (inputs and targets) and getting out of the graph the predicted outputs, the loss and the gradient values."
   ]
  },
  {
   "cell_type": "code",
   "execution_count": 6,
   "metadata": {},
   "outputs": [
    {
     "name": "stdout",
     "output_type": "stream",
     "text": [
      "tf.Tensor(39.41829141530692, shape=(), dtype=float64)\n",
      "tf.Tensor(\n",
      "[[0. 0. 0. ... 0. 0. 0.]\n",
      " [0. 0. 0. ... 0. 0. 0.]\n",
      " [0. 0. 0. ... 0. 0. 0.]\n",
      " ...\n",
      " [0. 0. 0. ... 0. 0. 0.]\n",
      " [0. 0. 0. ... 0. 0. 0.]\n",
      " [0. 0. 0. ... 0. 0. 0.]], shape=(784, 10), dtype=float64)\n"
     ]
    }
   ],
   "source": [
    "# TensorFlow 2.0 - a more complex example\n",
    "# step 1 - forward pass on single layer ANN with ReLu\n",
    "import numpy as np\n",
    "import tensorflow as tf\n",
    "\n",
    "@tf.function # this decorator tells tf that a graph is defined\n",
    "def simple_ann_train(x, w1, y):\n",
    "    y_pred = tf.maximum(tf.matmul(x, w1), 0) # ReLU on logit\n",
    "    diff = y_pred - y\n",
    "    loss = tf.reduce_mean(tf.pow(diff, 2))\n",
    "    grad = tf.gradients(ys=loss, xs=[w1]) \n",
    "    # tf.gradients returns a list of sum(dy/dx) for each x in xs\n",
    "    return y_pred, loss, grad\n",
    "\n",
    "N = x_train.shape[0]         # number of samples\n",
    "D = x_train.shape[1]         # dimension of input sample\n",
    "n_classes = y_train.shape[1] # output dim\n",
    "\n",
    "np.random.seed(0)\n",
    "w1 = np.random.randn(D, n_classes)\n",
    "\n",
    "with tf.device('/CPU:0'):  # change to /GPU:0 to move to GPU\n",
    "    out = simple_ann_train(x_train, w1, y_train)\n",
    "\n",
    "y_pred, loss_val, grad = out\n",
    "grad_w1 = grad[0] #grad is a list\n",
    "print(loss_val)\n",
    "print(grad_w1)"
   ]
  },
  {
   "cell_type": "code",
   "execution_count": 7,
   "metadata": {},
   "outputs": [
    {
     "name": "stdout",
     "output_type": "stream",
     "text": [
      "epoch = 0, loss = 39.41829141530692\n",
      "epoch = 1, loss = 36.043206025440234\n",
      "epoch = 2, loss = 33.07253170080303\n",
      "epoch = 3, loss = 30.449656869080798\n",
      "epoch = 4, loss = 28.126550481355917\n",
      "epoch = 5, loss = 26.062252351413335\n",
      "epoch = 6, loss = 24.22200368150052\n",
      "epoch = 7, loss = 22.576233836528324\n",
      "epoch = 8, loss = 21.099890233069484\n",
      "epoch = 9, loss = 19.771455229132886\n",
      "epoch = 10, loss = 18.572468533193316\n",
      "epoch = 11, loss = 17.48702518995156\n",
      "epoch = 12, loss = 16.50171232729688\n",
      "epoch = 13, loss = 15.604799659289315\n",
      "epoch = 14, loss = 14.786151227174917\n",
      "epoch = 15, loss = 14.037002733276523\n",
      "epoch = 16, loss = 13.34972877544156\n",
      "epoch = 17, loss = 12.717700387907456\n",
      "epoch = 18, loss = 12.135166114045061\n",
      "epoch = 19, loss = 11.597026390657618\n",
      "epoch = 20, loss = 11.098884763768165\n",
      "epoch = 21, loss = 10.636840508446957\n",
      "epoch = 22, loss = 10.207456860534212\n",
      "epoch = 23, loss = 9.807640873811199\n",
      "epoch = 24, loss = 9.434671378817363\n",
      "epoch = 25, loss = 9.086133994623346\n",
      "epoch = 26, loss = 8.759888361964292\n",
      "epoch = 27, loss = 8.454038296391422\n",
      "epoch = 28, loss = 8.166858442929412\n",
      "epoch = 29, loss = 7.896781576778913\n",
      "epoch = 30, loss = 7.6424620672476\n",
      "epoch = 31, loss = 7.40264360755099\n",
      "epoch = 32, loss = 7.176183593179217\n",
      "epoch = 33, loss = 6.962060160554429\n",
      "epoch = 34, loss = 6.759348048825316\n",
      "epoch = 35, loss = 6.567207338255645\n",
      "epoch = 36, loss = 6.384885050072262\n",
      "epoch = 37, loss = 6.211690315163003\n",
      "epoch = 38, loss = 6.0469848574954606\n",
      "epoch = 39, loss = 5.890190444693545\n"
     ]
    },
    {
     "data": {
      "text/plain": [
       "[<matplotlib.lines.Line2D at 0x101eb4b38>]"
      ]
     },
     "execution_count": 7,
     "metadata": {},
     "output_type": "execute_result"
    },
    {
     "data": {
      "image/png": "[encoded data removed]",
      "text/plain": [
       "<Figure size 432x288 with 1 Axes>"
      ]
     },
     "metadata": {
      "needs_background": "light"
     },
     "output_type": "display_data"
    }
   ],
   "source": [
    "# TensorFlow 2.0 - a more complex example\n",
    "# step 2 - training but weights are passing from gpu to cpu\n",
    "import numpy as np\n",
    "import tensorflow as tf\n",
    "import matplotlib.pyplot as plt\n",
    "\n",
    "@tf.function # this decorator tells tf that a graph is defined\n",
    "def simple_ann_train(x, w1, y):\n",
    "    y_pred = tf.maximum(tf.matmul(x, w1), 0) # ReLU on logit\n",
    "    diff = y_pred - y\n",
    "    loss = tf.reduce_mean(tf.pow(diff, 2))\n",
    "    grad = tf.gradients(ys=loss, xs=[w1])\n",
    "    # tf.gradients returns a list of sum(dy/dx) for each x in xs\n",
    "    return y_pred, loss, grad\n",
    "\n",
    "np.random.seed(0)\n",
    "w1 = np.random.randn(D, n_classes)\n",
    "alpha = 1e-2\n",
    "J = []\n",
    "for epoch in range(40):\n",
    "    with tf.device('/CPU:0'):  # change to /GPU:0 to move it to GPU\n",
    "        out = simple_ann_train(x_train, w1, y_train)\n",
    "    y_pred, loss_val, grad = out\n",
    "    grad_w1 = grad[0] # grad is a list of gradients\n",
    "    w1 -= alpha * grad_w1.numpy()\n",
    "    J.append(loss_val)\n",
    "    print(\"epoch = {}, loss = {}\".format(epoch,loss_val))\n",
    "\n",
    "plt.plot(J)"
   ]
  },
  {
   "cell_type": "code",
   "execution_count": 8,
   "metadata": {},
   "outputs": [
    {
     "name": "stdout",
     "output_type": "stream",
     "text": [
      "epoch = 0, loss = 40.121396737599106\n",
      "epoch = 1, loss = 36.70667115514817\n",
      "epoch = 2, loss = 33.69851648458975\n",
      "epoch = 3, loss = 31.04038797967314\n",
      "epoch = 4, loss = 28.68433131268356\n",
      "epoch = 5, loss = 26.589500220799774\n",
      "epoch = 6, loss = 24.7209443006343\n",
      "epoch = 7, loss = 23.048983517803862\n",
      "epoch = 8, loss = 21.548189999792125\n",
      "epoch = 9, loss = 20.19691501292205\n",
      "epoch = 10, loss = 18.976671418076343\n",
      "epoch = 11, loss = 17.871613846396183\n",
      "epoch = 12, loss = 16.868017973433453\n",
      "epoch = 13, loss = 15.95394209909613\n",
      "epoch = 14, loss = 15.119211681068773\n",
      "epoch = 15, loss = 14.354929606478263\n",
      "epoch = 16, loss = 13.653370435166194\n",
      "epoch = 17, loss = 13.007827759932372\n",
      "epoch = 18, loss = 12.41239683611073\n",
      "epoch = 19, loss = 11.862014505100538\n",
      "epoch = 20, loss = 11.352162938386146\n",
      "epoch = 21, loss = 10.878895598093491\n",
      "epoch = 22, loss = 10.438710522480337\n",
      "epoch = 23, loss = 10.028533006804327\n",
      "epoch = 24, loss = 9.645649241274796\n",
      "epoch = 25, loss = 9.287623740599484\n",
      "epoch = 26, loss = 8.952258761124892\n",
      "epoch = 27, loss = 8.63763118118341\n",
      "epoch = 28, loss = 8.341990364414363\n",
      "epoch = 29, loss = 8.06377391281071\n",
      "epoch = 30, loss = 7.801607020576635\n",
      "epoch = 31, loss = 7.554221874974817\n",
      "epoch = 32, loss = 7.320453354883791\n",
      "epoch = 33, loss = 7.099256346706352\n",
      "epoch = 34, loss = 6.889698585618687\n",
      "epoch = 35, loss = 6.690938720496622\n",
      "epoch = 36, loss = 6.502226934560045\n",
      "epoch = 37, loss = 6.3228621079334335\n",
      "epoch = 38, loss = 6.152198251086476\n",
      "epoch = 39, loss = 5.9896495300793555\n"
     ]
    },
    {
     "data": {
      "text/plain": [
       "[<matplotlib.lines.Line2D at 0x128e06978>]"
      ]
     },
     "execution_count": 8,
     "metadata": {},
     "output_type": "execute_result"
    },
    {
     "data": {
      "image/png": "[encoded data removed]",
      "text/plain": [
       "<Figure size 432x288 with 1 Axes>"
      ]
     },
     "metadata": {
      "needs_background": "light"
     },
     "output_type": "display_data"
    }
   ],
   "source": [
    "# TensorFlow 2.0 - a more complex example\n",
    "# step 3 - change weights to persistant in-graph variables\n",
    "import numpy as np\n",
    "import tensorflow as tf\n",
    "import matplotlib.pyplot as plt\n",
    "\n",
    "@tf.function # this decorator tells tf that a graph is defined\n",
    "def simple_ann_train(x, y, alpha):\n",
    "    y_pred = tf.maximum(tf.matmul(x, w1), 0) # ReLU on logit\n",
    "    diff = y_pred - y\n",
    "    loss = tf.reduce_mean(tf.pow(diff, 2))\n",
    "    grad = tf.gradients(ys=loss, xs=[w1])\n",
    "    # tf.gradients returns a list of sum(dy/dx) for each x in xs\n",
    "    grad_w1 = grad[0]\n",
    "    w1.assign(w1 - alpha * grad_w1)\n",
    "    return y_pred, loss\n",
    "\n",
    "np.random.seed(0)\n",
    "alpha = 1e-2\n",
    "J = []\n",
    "w1 = tf.Variable(tf.random.normal((D, n_classes), dtype='float64'))\n",
    "for epoch in range(40):\n",
    "    with tf.device('/CPU:0'):  # change to /GPU:0 to move it to GPU\n",
    "        out = simple_ann_train(x_train, y_train, alpha)\n",
    "    y_pred, loss_val = out\n",
    "    J.append(loss_val)\n",
    "    print(\"epoch = {}, loss = {}\".format(epoch,loss_val))\n",
    "\n",
    "plt.plot(J)"
   ]
  },
  {
   "cell_type": "code",
   "execution_count": 9,
   "metadata": {},
   "outputs": [
    {
     "name": "stdout",
     "output_type": "stream",
     "text": [
      "epoch = 0, loss = 37.69242858886719\n",
      "epoch = 1, loss = 34.63842010498047\n",
      "epoch = 2, loss = 31.947662353515625\n",
      "epoch = 3, loss = 29.56900405883789\n",
      "epoch = 4, loss = 27.459064483642578\n",
      "epoch = 5, loss = 25.581035614013672\n",
      "epoch = 6, loss = 23.903650283813477\n",
      "epoch = 7, loss = 22.400333404541016\n",
      "epoch = 8, loss = 21.04848289489746\n",
      "epoch = 9, loss = 19.828824996948242\n",
      "epoch = 10, loss = 18.72492027282715\n",
      "epoch = 11, loss = 17.722620010375977\n",
      "epoch = 12, loss = 16.809818267822266\n",
      "epoch = 13, loss = 15.976106643676758\n",
      "epoch = 14, loss = 15.212479591369629\n",
      "epoch = 15, loss = 14.511173248291016\n",
      "epoch = 16, loss = 13.865421295166016\n",
      "epoch = 17, loss = 13.269335746765137\n",
      "epoch = 18, loss = 12.71776008605957\n",
      "epoch = 19, loss = 12.206228256225586\n",
      "epoch = 20, loss = 11.73076057434082\n",
      "epoch = 21, loss = 11.287901878356934\n",
      "epoch = 22, loss = 10.874605178833008\n",
      "epoch = 23, loss = 10.48816204071045\n",
      "epoch = 24, loss = 10.126152038574219\n",
      "epoch = 25, loss = 9.786443710327148\n",
      "epoch = 26, loss = 9.467097282409668\n",
      "epoch = 27, loss = 9.166420936584473\n",
      "epoch = 28, loss = 8.882901191711426\n",
      "epoch = 29, loss = 8.615141868591309\n",
      "epoch = 30, loss = 8.361927032470703\n",
      "epoch = 31, loss = 8.122162818908691\n",
      "epoch = 32, loss = 7.894839763641357\n",
      "epoch = 33, loss = 7.679051399230957\n",
      "epoch = 34, loss = 7.473967552185059\n",
      "epoch = 35, loss = 7.278828144073486\n",
      "epoch = 36, loss = 7.092948913574219\n",
      "epoch = 37, loss = 6.915718078613281\n",
      "epoch = 38, loss = 6.746551990509033\n",
      "epoch = 39, loss = 6.584918975830078\n"
     ]
    },
    {
     "data": {
      "text/plain": [
       "[<matplotlib.lines.Line2D at 0x128f40630>]"
      ]
     },
     "execution_count": 9,
     "metadata": {},
     "output_type": "execute_result"
    },
    {
     "data": {
      "image/png": "[encoded data removed]",
      "text/plain": [
       "<Figure size 432x288 with 1 Axes>"
      ]
     },
     "metadata": {
      "needs_background": "light"
     },
     "output_type": "display_data"
    }
   ],
   "source": [
    "# TensorFlow 2.0 - a more complex example\n",
    "# step 4 - use pre-defined losses and optimizers\n",
    "import numpy as np\n",
    "import tensorflow as tf\n",
    "import matplotlib.pyplot as plt\n",
    "\n",
    "@tf.function # this decorator tells tf that a graph is defined\n",
    "def simple_ann_train(x, y, alpha):\n",
    "    y_pred = tf.nn.relu(tf.matmul(x, w1))  # ReLU on logit\n",
    "    mse = tf.keras.losses.MeanSquaredError()\n",
    "    loss = mse(y, y_pred)\n",
    "    optimizer = tf.compat.v1.train.GradientDescentOptimizer(1e-2)\n",
    "    updates = optimizer.minimize(loss, var_list=w1)\n",
    "    return y_pred, loss\n",
    "\n",
    "np.random.seed(0)\n",
    "alpha = 1e-2\n",
    "J = []\n",
    "w1 = tf.Variable(tf.random.normal((D, n_classes), dtype='float64'))\n",
    "for epoch in range(40):\n",
    "    with tf.device('/CPU:0'):  # change to /GPU:0 to move it to GPU\n",
    "        out = simple_ann_train(x_train, y_train, alpha)\n",
    "    y_pred, loss_val = out\n",
    "    J.append(loss_val)\n",
    "    print(\"epoch = {}, loss = {}\".format(epoch,loss_val))\n",
    "\n",
    "plt.plot(J)"
   ]
  },
  {
   "cell_type": "markdown",
   "metadata": {},
   "source": [
    "### Using pre-defined models with Keras "
   ]
  },
  {
   "cell_type": "code",
   "execution_count": 10,
   "metadata": {},
   "outputs": [
    {
     "name": "stdout",
     "output_type": "stream",
     "text": [
      "Model: \"sequential\"\n",
      "_________________________________________________________________\n",
      "Layer (type)                 Output Shape              Param #   \n",
      "=================================================================\n",
      "dense (Dense)                (None, 10)                7840      \n",
      "=================================================================\n",
      "Total params: 7,840\n",
      "Trainable params: 7,840\n",
      "Non-trainable params: 0\n",
      "_________________________________________________________________\n",
      "Train on 60000 samples\n",
      "Epoch 1/40\n",
      "60000/60000 [==============================] - 2s 27us/sample - loss: 0.2332 - accuracy: 0.0531\n",
      "Epoch 2/40\n",
      "60000/60000 [==============================] - 1s 9us/sample - loss: 0.0985 - accuracy: 0.1691\n",
      "Epoch 3/40\n",
      "60000/60000 [==============================] - 0s 5us/sample - loss: 0.0973 - accuracy: 0.1819\n",
      "Epoch 4/40\n",
      "60000/60000 [==============================] - 0s 3us/sample - loss: 0.0962 - accuracy: 0.1972\n",
      "Epoch 5/40\n",
      "60000/60000 [==============================] - 0s 4us/sample - loss: 0.0950 - accuracy: 0.2129\n",
      "Epoch 6/40\n",
      "60000/60000 [==============================] - 0s 4us/sample - loss: 0.0937 - accuracy: 0.2274\n",
      "Epoch 7/40\n",
      "60000/60000 [==============================] - 0s 4us/sample - loss: 0.0924 - accuracy: 0.2417\n",
      "Epoch 8/40\n",
      "60000/60000 [==============================] - 0s 3us/sample - loss: 0.0911 - accuracy: 0.2543\n",
      "Epoch 9/40\n",
      "60000/60000 [==============================] - 0s 4us/sample - loss: 0.0900 - accuracy: 0.2646\n",
      "Epoch 10/40\n",
      "60000/60000 [==============================] - 0s 3us/sample - loss: 0.0889 - accuracy: 0.2750\n",
      "Epoch 11/40\n",
      "60000/60000 [==============================] - 0s 3us/sample - loss: 0.0880 - accuracy: 0.2847\n",
      "Epoch 12/40\n",
      "60000/60000 [==============================] - 0s 3us/sample - loss: 0.0871 - accuracy: 0.2943\n",
      "Epoch 13/40\n",
      "60000/60000 [==============================] - 0s 3us/sample - loss: 0.0862 - accuracy: 0.3039\n",
      "Epoch 14/40\n",
      "60000/60000 [==============================] - 0s 3us/sample - loss: 0.0854 - accuracy: 0.3135\n",
      "Epoch 15/40\n",
      "60000/60000 [==============================] - 0s 3us/sample - loss: 0.0845 - accuracy: 0.3233\n",
      "Epoch 16/40\n",
      "60000/60000 [==============================] - 0s 3us/sample - loss: 0.0836 - accuracy: 0.3343\n",
      "Epoch 17/40\n",
      "60000/60000 [==============================] - 0s 3us/sample - loss: 0.0827 - accuracy: 0.3456\n",
      "Epoch 18/40\n",
      "60000/60000 [==============================] - 0s 3us/sample - loss: 0.0818 - accuracy: 0.3557\n",
      "Epoch 19/40\n",
      "60000/60000 [==============================] - 0s 3us/sample - loss: 0.0809 - accuracy: 0.3649\n",
      "Epoch 20/40\n",
      "60000/60000 [==============================] - 0s 4us/sample - loss: 0.0801 - accuracy: 0.3735\n",
      "Epoch 21/40\n",
      "60000/60000 [==============================] - 0s 3us/sample - loss: 0.0794 - accuracy: 0.3810\n",
      "Epoch 22/40\n",
      "60000/60000 [==============================] - 0s 3us/sample - loss: 0.0787 - accuracy: 0.3873\n",
      "Epoch 23/40\n",
      "60000/60000 [==============================] - 0s 3us/sample - loss: 0.0781 - accuracy: 0.3930\n",
      "Epoch 24/40\n",
      "60000/60000 [==============================] - 0s 3us/sample - loss: 0.0776 - accuracy: 0.3983\n",
      "Epoch 25/40\n",
      "60000/60000 [==============================] - 0s 4us/sample - loss: 0.0771 - accuracy: 0.4033\n",
      "Epoch 26/40\n",
      "60000/60000 [==============================] - 0s 3us/sample - loss: 0.0766 - accuracy: 0.4082\n",
      "Epoch 27/40\n",
      "60000/60000 [==============================] - 0s 3us/sample - loss: 0.0761 - accuracy: 0.4134\n",
      "Epoch 28/40\n",
      "60000/60000 [==============================] - 0s 4us/sample - loss: 0.0757 - accuracy: 0.4189\n",
      "Epoch 29/40\n",
      "60000/60000 [==============================] - 0s 4us/sample - loss: 0.0752 - accuracy: 0.4239\n",
      "Epoch 30/40\n",
      "60000/60000 [==============================] - 0s 4us/sample - loss: 0.0746 - accuracy: 0.4299\n",
      "Epoch 31/40\n",
      "60000/60000 [==============================] - 0s 4us/sample - loss: 0.0740 - accuracy: 0.4357\n",
      "Epoch 32/40\n",
      "60000/60000 [==============================] - 0s 3us/sample - loss: 0.0734 - accuracy: 0.4412\n",
      "Epoch 33/40\n",
      "60000/60000 [==============================] - 0s 3us/sample - loss: 0.0728 - accuracy: 0.4469\n",
      "Epoch 34/40\n",
      "60000/60000 [==============================] - 0s 3us/sample - loss: 0.0723 - accuracy: 0.4520\n",
      "Epoch 35/40\n",
      "60000/60000 [==============================] - 0s 4us/sample - loss: 0.0717 - accuracy: 0.4577\n",
      "Epoch 36/40\n",
      "60000/60000 [==============================] - 0s 4us/sample - loss: 0.0712 - accuracy: 0.4628\n",
      "Epoch 37/40\n",
      "60000/60000 [==============================] - 0s 4us/sample - loss: 0.0707 - accuracy: 0.4680\n",
      "Epoch 38/40\n",
      "60000/60000 [==============================] - 0s 4us/sample - loss: 0.0702 - accuracy: 0.4729\n",
      "Epoch 39/40\n",
      "60000/60000 [==============================] - 0s 4us/sample - loss: 0.0698 - accuracy: 0.4771\n",
      "Epoch 40/40\n",
      "60000/60000 [==============================] - 0s 3us/sample - loss: 0.0694 - accuracy: 0.4816\n",
      "10000/1 - 0s - loss: 0.0666 - accuracy: 0.4843\n"
     ]
    },
    {
     "data": {
      "text/plain": [
       "[0.06926600786447525, 0.4843]"
      ]
     },
     "execution_count": 10,
     "metadata": {},
     "output_type": "execute_result"
    }
   ],
   "source": [
    "# Using Keras\n",
    "# Single layer network architecture, similar to the one used in the previous steps.\n",
    "# Full batch SGD\n",
    "import tensorflow as tf\n",
    "\n",
    "model = tf.keras.models.Sequential()\n",
    "model.add(tf.keras.layers.Dense(10, input_shape=(D,), use_bias=False, activation='relu'))\n",
    "model.summary()\n",
    "\n",
    "sgd = tf.keras.optimizers.SGD(learning_rate=0.5)\n",
    "\n",
    "model.compile(optimizer=sgd, loss='mse', metrics=['accuracy'])\n",
    "\n",
    "history1 = model.fit(x_train, y_train, batch_size=N, epochs=40)\n",
    "\n",
    "model.evaluate(x_test,  y_test, verbose=2)"
   ]
  },
  {
   "cell_type": "code",
   "execution_count": 11,
   "metadata": {},
   "outputs": [
    {
     "name": "stdout",
     "output_type": "stream",
     "text": [
      "Model: \"sequential_1\"\n",
      "_________________________________________________________________\n",
      "Layer (type)                 Output Shape              Param #   \n",
      "=================================================================\n",
      "dense_1 (Dense)              (None, 10)                7840      \n",
      "=================================================================\n",
      "Total params: 7,840\n",
      "Trainable params: 7,840\n",
      "Non-trainable params: 0\n",
      "_________________________________________________________________\n",
      "Train on 60000 samples\n",
      "Epoch 1/40\n",
      "60000/60000 [==============================] - 1s 13us/sample - loss: 0.0976 - accuracy: 0.2243\n",
      "Epoch 2/40\n",
      "60000/60000 [==============================] - 1s 10us/sample - loss: 0.0790 - accuracy: 0.3903\n",
      "Epoch 3/40\n",
      "60000/60000 [==============================] - 1s 10us/sample - loss: 0.0680 - accuracy: 0.5074\n",
      "Epoch 4/40\n",
      "60000/60000 [==============================] - 1s 10us/sample - loss: 0.0589 - accuracy: 0.5991\n",
      "Epoch 5/40\n",
      "60000/60000 [==============================] - 1s 12us/sample - loss: 0.0533 - accuracy: 0.6491\n",
      "Epoch 6/40\n",
      "60000/60000 [==============================] - 1s 11us/sample - loss: 0.0499 - accuracy: 0.6791\n",
      "Epoch 7/40\n",
      "60000/60000 [==============================] - 1s 10us/sample - loss: 0.0477 - accuracy: 0.7000\n",
      "Epoch 8/40\n",
      "60000/60000 [==============================] - 1s 10us/sample - loss: 0.0461 - accuracy: 0.7138\n",
      "Epoch 9/40\n",
      "60000/60000 [==============================] - 1s 10us/sample - loss: 0.0450 - accuracy: 0.7227\n",
      "Epoch 10/40\n",
      "60000/60000 [==============================] - 1s 10us/sample - loss: 0.0440 - accuracy: 0.7329\n",
      "Epoch 11/40\n",
      "60000/60000 [==============================] - 1s 10us/sample - loss: 0.0424 - accuracy: 0.7543\n",
      "Epoch 12/40\n",
      "60000/60000 [==============================] - 1s 10us/sample - loss: 0.0403 - accuracy: 0.7768\n",
      "Epoch 13/40\n",
      "60000/60000 [==============================] - 1s 10us/sample - loss: 0.0389 - accuracy: 0.7893\n",
      "Epoch 14/40\n",
      "60000/60000 [==============================] - 1s 11us/sample - loss: 0.0380 - accuracy: 0.7978\n",
      "Epoch 15/40\n",
      "60000/60000 [==============================] - 1s 10us/sample - loss: 0.0373 - accuracy: 0.8045\n",
      "Epoch 16/40\n",
      "60000/60000 [==============================] - 1s 10us/sample - loss: 0.0368 - accuracy: 0.8092\n",
      "Epoch 17/40\n",
      "60000/60000 [==============================] - 1s 10us/sample - loss: 0.0363 - accuracy: 0.8137\n",
      "Epoch 18/40\n",
      "60000/60000 [==============================] - 1s 10us/sample - loss: 0.0359 - accuracy: 0.8173\n",
      "Epoch 19/40\n",
      "60000/60000 [==============================] - 1s 10us/sample - loss: 0.0356 - accuracy: 0.8207\n",
      "Epoch 20/40\n",
      "60000/60000 [==============================] - 1s 10us/sample - loss: 0.0353 - accuracy: 0.8234\n",
      "Epoch 21/40\n",
      "60000/60000 [==============================] - 1s 11us/sample - loss: 0.0350 - accuracy: 0.8261\n",
      "Epoch 22/40\n",
      "60000/60000 [==============================] - 1s 10us/sample - loss: 0.0348 - accuracy: 0.8285\n",
      "Epoch 23/40\n",
      "60000/60000 [==============================] - 1s 10us/sample - loss: 0.0346 - accuracy: 0.8305\n",
      "Epoch 24/40\n",
      "60000/60000 [==============================] - 1s 11us/sample - loss: 0.0344 - accuracy: 0.8321\n",
      "Epoch 25/40\n",
      "60000/60000 [==============================] - 1s 10us/sample - loss: 0.0342 - accuracy: 0.8339\n",
      "Epoch 26/40\n",
      "60000/60000 [==============================] - 1s 10us/sample - loss: 0.0340 - accuracy: 0.8355\n",
      "Epoch 27/40\n",
      "60000/60000 [==============================] - 1s 10us/sample - loss: 0.0338 - accuracy: 0.8369\n",
      "Epoch 28/40\n",
      "60000/60000 [==============================] - 1s 10us/sample - loss: 0.0337 - accuracy: 0.8382\n",
      "Epoch 29/40\n",
      "60000/60000 [==============================] - 1s 10us/sample - loss: 0.0336 - accuracy: 0.8400\n",
      "Epoch 30/40\n",
      "60000/60000 [==============================] - 1s 10us/sample - loss: 0.0334 - accuracy: 0.8409\n",
      "Epoch 31/40\n",
      "60000/60000 [==============================] - 1s 11us/sample - loss: 0.0333 - accuracy: 0.8418\n",
      "Epoch 32/40\n",
      "60000/60000 [==============================] - 1s 10us/sample - loss: 0.0332 - accuracy: 0.8432\n",
      "Epoch 33/40\n",
      "60000/60000 [==============================] - 1s 10us/sample - loss: 0.0331 - accuracy: 0.8442\n",
      "Epoch 34/40\n",
      "60000/60000 [==============================] - 1s 11us/sample - loss: 0.0329 - accuracy: 0.8449\n",
      "Epoch 35/40\n",
      "60000/60000 [==============================] - 1s 10us/sample - loss: 0.0328 - accuracy: 0.8459\n",
      "Epoch 36/40\n",
      "60000/60000 [==============================] - 1s 11us/sample - loss: 0.0327 - accuracy: 0.8469\n",
      "Epoch 37/40\n",
      "60000/60000 [==============================] - 1s 11us/sample - loss: 0.0327 - accuracy: 0.8475\n",
      "Epoch 38/40\n",
      "60000/60000 [==============================] - 1s 11us/sample - loss: 0.0326 - accuracy: 0.8486\n",
      "Epoch 39/40\n",
      "60000/60000 [==============================] - 1s 10us/sample - loss: 0.0325 - accuracy: 0.8494\n",
      "Epoch 40/40\n",
      "60000/60000 [==============================] - 1s 10us/sample - loss: 0.0324 - accuracy: 0.8500\n",
      "10000/1 - 0s - loss: 0.0285 - accuracy: 0.8575\n"
     ]
    },
    {
     "data": {
      "text/plain": [
       "[0.031554890438914296, 0.8575]"
      ]
     },
     "execution_count": 11,
     "metadata": {},
     "output_type": "execute_result"
    }
   ],
   "source": [
    "# Using Keras\n",
    "# Single layer network architecture, similar to the one used in the previous steps.\n",
    "# Batch=128 SGD\n",
    "import tensorflow as tf\n",
    "\n",
    "\n",
    "model = tf.keras.models.Sequential()\n",
    "model.add(tf.keras.layers.Dense(10, input_shape=(D,), use_bias=False, activation='relu'))\n",
    "model.summary()\n",
    "\n",
    "sgd = tf.keras.optimizers.SGD(learning_rate=0.01)\n",
    "\n",
    "model.compile(optimizer=sgd, loss='mse', metrics=['accuracy'])\n",
    "\n",
    "history2 = model.fit(x_train, y_train, batch_size=128, epochs=40)\n",
    "\n",
    "model.evaluate(x_test,  y_test, verbose=2)"
   ]
  },
  {
   "cell_type": "code",
   "execution_count": 12,
   "metadata": {},
   "outputs": [
    {
     "data": {
      "image/png": "[encoded data removed]",
      "text/plain": [
       "<Figure size 432x288 with 1 Axes>"
      ]
     },
     "metadata": {
      "needs_background": "light"
     },
     "output_type": "display_data"
    }
   ],
   "source": [
    "plot_history(history1.epoch, [history1.history['loss'], history2.history['loss']], \n",
    "             ['full batch', 'batch=128'], 'mse')"
   ]
  },
  {
   "cell_type": "code",
   "execution_count": null,
   "metadata": {},
   "outputs": [],
   "source": []
  }
 ],
 "metadata": {
  "kernelspec": {
   "display_name": "Python 3",
   "language": "python",
   "name": "python3"
  },
  "language_info": {
   "codemirror_mode": {
    "name": "ipython",
    "version": 3
   },
   "file_extension": ".py",
   "mimetype": "text/x-python",
   "name": "python",
   "nbconvert_exporter": "python",
   "pygments_lexer": "ipython3",
   "version": "3.7.3"
  }
 },
 "nbformat": 4,
 "nbformat_minor": 2
}
