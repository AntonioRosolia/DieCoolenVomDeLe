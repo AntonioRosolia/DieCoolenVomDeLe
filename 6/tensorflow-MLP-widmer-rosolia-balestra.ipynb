{
 "cells": [
  {
   "cell_type": "markdown",
   "metadata": {},
   "source": [
    "## MLP with TensorFlow 2.0\n",
    "The objective of the exercise is to implement computational graphs in TensorFlow 2.0 to train and use such an architecture. The constraints we put ourselves is to use **low-level** functions of TensorFlow, i.e. we will not use high-level functions to compose layers and to train the parameters.\n",
    "\n",
    "If you get this error in the execution of the first cell: ` ModuleNotFoundError: No module named 'tensorflow' `, it probably means TensorFlow 2.0 is not installed yet on your machine."
   ]
  },
  {
   "cell_type": "code",
   "execution_count": 78,
   "metadata": {},
   "outputs": [
    {
     "name": "stdout",
     "output_type": "stream",
     "text": [
      "MNIST data set ready. N=60000, D=784, n_classes=10\n"
     ]
    }
   ],
   "source": [
    "#############################\n",
    "# MNIST Dataset Preparation #\n",
    "#############################\n",
    "\n",
    "import numpy as np\n",
    "import tensorflow as tf\n",
    "import matplotlib.pyplot as plt\n",
    "\n",
    "mnist = tf.keras.datasets.mnist\n",
    "(x_train, y_train_vec),(x_test, y_test_vec) = mnist.load_data()\n",
    "x_train, x_test = x_train / 255.0, x_test / 255.0\n",
    "x_train = x_train.reshape(60000, 784)\n",
    "x_test = x_test.reshape(10000, 784)\n",
    "# convert class vectors to binary class matrices\n",
    "y_train = tf.keras.utils.to_categorical(y_train_vec, 10, dtype='float64')\n",
    "y_test = tf.keras.utils.to_categorical(y_test_vec, 10, dtype='float64')\n",
    "N = x_train.shape[0]         # number of samples\n",
    "D = x_train.shape[1]         # dimension of input sample\n",
    "n_classes = y_train.shape[1] # output dim\n",
    "print('MNIST data set ready. N={}, D={}, n_classes={}'.format(N,D,n_classes))"
   ]
  },
  {
   "cell_type": "code",
   "execution_count": 17,
   "metadata": {},
   "outputs": [],
   "source": [
    "# Function to sample a random batch from dataset\n",
    "def next_batch(num, data, labels):\n",
    "    '''\n",
    "    Return a total of `num` random samples and labels. \n",
    "    '''\n",
    "    idx = np.arange(0,len(data))  # create an array of index values\n",
    "    np.random.shuffle(idx)        # shuffle it\n",
    "    idx = idx[:num]               # take the first n indexes = size of batch\n",
    "    data_shuffle = data[idx]      # extract the batch using the random indexes\n",
    "    labels_shuffle = labels[idx]  # extract the labels using the random indexes\n",
    "\n",
    "    return data_shuffle, labels_shuffle"
   ]
  },
  {
   "cell_type": "code",
   "execution_count": 31,
   "metadata": {
    "scrolled": false
   },
   "outputs": [
    {
     "name": "stdout",
     "output_type": "stream",
     "text": [
      "epoch = 0, loss = 62.542483826686116\n",
      "epoch = 1, loss = 42.34177834297284\n",
      "epoch = 2, loss = 39.98567622183784\n",
      "epoch = 3, loss = 37.79961421185011\n",
      "epoch = 4, loss = 35.5804264912843\n",
      "epoch = 5, loss = 33.382771412676206\n",
      "epoch = 6, loss = 31.529795983242096\n",
      "epoch = 7, loss = 29.84731349508578\n",
      "epoch = 8, loss = 28.238855662441352\n",
      "epoch = 9, loss = 27.00505203415931\n",
      "epoch = 10, loss = 25.926485703581413\n",
      "epoch = 11, loss = 24.741335187794466\n",
      "epoch = 12, loss = 23.94889358484248\n",
      "epoch = 13, loss = 23.18306033685146\n",
      "epoch = 14, loss = 22.25860311969975\n",
      "epoch = 15, loss = 21.768236214154435\n",
      "epoch = 16, loss = 20.934457637049427\n",
      "epoch = 17, loss = 20.371873180590136\n",
      "epoch = 18, loss = 19.761222030771144\n",
      "epoch = 19, loss = 19.264373631080467\n",
      "epoch = 20, loss = 19.029461214897502\n",
      "epoch = 21, loss = 18.33537524219486\n",
      "epoch = 22, loss = 17.992260555207146\n",
      "epoch = 23, loss = 17.688094649129685\n",
      "epoch = 24, loss = 17.18891697487546\n",
      "epoch = 25, loss = 16.917623078419282\n",
      "epoch = 26, loss = 16.65268769253041\n",
      "epoch = 27, loss = 16.382490165157826\n",
      "epoch = 28, loss = 16.127367501357792\n",
      "epoch = 29, loss = 15.762653880032353\n",
      "epoch = 30, loss = 15.614351543946533\n",
      "epoch = 31, loss = 15.371155520295245\n",
      "epoch = 32, loss = 15.0807439043483\n",
      "epoch = 33, loss = 14.93616617425597\n",
      "epoch = 34, loss = 14.753300235423357\n",
      "epoch = 35, loss = 14.56311633111191\n",
      "epoch = 36, loss = 14.465535016138864\n",
      "epoch = 37, loss = 14.085056087983256\n",
      "epoch = 38, loss = 14.103225921033857\n",
      "epoch = 39, loss = 13.820740867904217\n",
      "epoch = 40, loss = 13.778924038872525\n",
      "epoch = 41, loss = 13.627171248276548\n",
      "epoch = 42, loss = 13.529340078682615\n",
      "epoch = 43, loss = 13.458681923416407\n",
      "epoch = 44, loss = 13.306938291418007\n",
      "epoch = 45, loss = 13.141613528450424\n",
      "epoch = 46, loss = 13.007543506284904\n",
      "epoch = 47, loss = 12.86921671225262\n",
      "epoch = 48, loss = 12.748369684040023\n",
      "epoch = 49, loss = 12.752789379328254\n"
     ]
    }
   ],
   "source": [
    "##################\n",
    "# Training phase #\n",
    "##################\n",
    "\n",
    "E = 50                # number of epochs\n",
    "B = 128               # batch size\n",
    "N = x_train.shape[0]  # number of samples\n",
    "D = x_train.shape[1]  # dimension of input sample\n",
    "H = 300               # number of neurons\n",
    "A = 0.01              # learning rate alpha\n",
    "\n",
    "##############################################\n",
    "#  COMPLETE CODE BELOW WHERE YOU SEE # ...   #\n",
    "##############################################\n",
    "\n",
    "# Build the computational graph\n",
    "@tf.function # this decorator tells tf that a graph is defined\n",
    "def mlp_train(x, y, alpha):\n",
    "    # define nodes for forward computation for hidden neurons h and output neurons y_pred\n",
    "    # h = ...  output of first layer after ReLu activation\n",
    "    #h = tf.nn.relu(tf.matmul(x, w1)+b1)\n",
    "    h = tf.maximum(tf.matmul(x, w1) + b1, 0.0)\n",
    "    # y_pred = ... output of second layer after sigmoid activation\n",
    "    #y_pred = tf.maximum((tf.matmul(h,w2)+b2),0)\n",
    "    y_pred = tf.sigmoid(tf.matmul(h, w2) + b2)\n",
    "    # define nodes for forward computation for hidden neurons h and output neurons y_pred\n",
    "    #print(\"y: \", y)\n",
    "    #print(\"y_pred: \", y_pred)\n",
    "    diff = y_pred - y\n",
    "    loss = tf.reduce_mean(tf.pow(diff,2))\n",
    "    \n",
    "    # define the gradients\n",
    "    grad_w1, grad_b1, grad_w2, grad_b2 = tf.gradients(ys=loss, xs=[w1,b1,w2,b2])\n",
    "    \n",
    "    # compute the new values of the gradients with the assign method (see slides)\n",
    "    w1.assign(w1 - alpha * grad_w1)\n",
    "    b1.assign(b1 - alpha * grad_b1)\n",
    "    w2.assign(w2 - alpha * grad_w2)\n",
    "    b2.assign(b2 - alpha * grad_b2)\n",
    "    return y_pred, loss\n",
    "\n",
    "# Init the tf.Variablesw 1, b1, w2, b2 following the given examples\n",
    "w1 = tf.Variable(tf.random.truncated_normal((D, H), stddev = 0.1, dtype='float64'))\n",
    "b1 = tf.Variable(tf.constant(0.0, shape=[H], dtype='float64'))\n",
    "w2 = tf.Variable(tf.random.truncated_normal((H, n_classes), stddev = 0.1, dtype='float64'))\n",
    "b2 = tf.Variable(tf.constant(0.0, shape=[n_classes], dtype='float64'))\n",
    "\n",
    "# Run the computational graph\n",
    "J = [] # to store the evolution of loss J for each epoch\n",
    "for epoch in range(E):\n",
    "    J_epoch = 0.0\n",
    "    for _ in range(int(N/B)): # number of batches to visit for 1 epoch\n",
    "        # get batches calling the next_batch method provided above\n",
    "        x_train_batch, y_train_batch = next_batch(B,x_train, y_train)\n",
    "        #print(\"y_train_batch: \", y_train_batch)\n",
    "        with tf.device('/CPU:0'):  # change to /GPU:0 to move it to GPU\n",
    "            # call the graph with the batched input, target and alpha A\n",
    "             out = mlp_train(x_train_batch, y_train_batch, A)\n",
    "        y_pred, loss_val = out\n",
    "        J_epoch += loss_val\n",
    "    J.append(J_epoch)\n",
    "    print(\"epoch = {}, loss = {}\".format(epoch, J_epoch))"
   ]
  },
  {
   "cell_type": "code",
   "execution_count": 32,
   "metadata": {},
   "outputs": [
    {
     "data": {
      "text/plain": [
       "[<matplotlib.lines.Line2D at 0x20d2bee8390>]"
      ]
     },
     "execution_count": 32,
     "metadata": {},
     "output_type": "execute_result"
    },
    {
     "data": {
      "image/png": "[encoded data removed]",
      "text/plain": [
       "<matplotlib.figure.Figure at 0x20d2bf2beb8>"
      ]
     },
     "metadata": {},
     "output_type": "display_data"
    }
   ],
   "source": [
    "# Plot the evolution of the loss\n",
    "plt.plot(J)"
   ]
  },
  {
   "cell_type": "code",
   "execution_count": 33,
   "metadata": {},
   "outputs": [
    {
     "name": "stdout",
     "output_type": "stream",
     "text": [
      "Forward pass on test set done.\n"
     ]
    }
   ],
   "source": [
    "#################\n",
    "# Testing phase #\n",
    "#################\n",
    "\n",
    "N = x_test.shape[0]  # number of samples\n",
    "D = x_test.shape[1]  # dimension of input sample\n",
    "\n",
    "##############################################\n",
    "#  COMPLETE CODE BELOW WHERE YOU SEE # ...   #\n",
    "##############################################\n",
    "# Build the computational graph\n",
    "@tf.function # this decorator tells tf that a graph is defined\n",
    "def mlp_test(x, y):\n",
    "    #h = tf.nn.relu(tf.matmul(x, w1)+b1)\n",
    "    #y_pred = tf.maximum((tf.matmul(h,w2)+b2),0)\n",
    "    h = tf.maximum(tf.matmul(x, w1) + b1, 0.0)\n",
    "    y_pred = tf.sigmoid(tf.matmul(h, w2) + b2)\n",
    "    return y_pred\n",
    "\n",
    "# Run the computational graph\n",
    "with tf.device('/CPU:0'):  # change to /GPU:0 to move it to GPU\n",
    "    y_pred_test = mlp_test(x_test, y_test)\n",
    "\n",
    "print('Forward pass on test set done.')\n",
    "# At this stage, y_pred_test should contain the matrix of outputs on the test set with shape (N_test, 10)"
   ]
  },
  {
   "cell_type": "code",
   "execution_count": 34,
   "metadata": {},
   "outputs": [
    {
     "name": "stdout",
     "output_type": "stream",
     "text": [
      "# samples  :  10000\n",
      "# correct  :  8822\n",
      "# missed   :  1178\n",
      "accuracy   :  88.22 %\n",
      "error rate :  11.78 %\n"
     ]
    }
   ],
   "source": [
    "# compute accuracy\n",
    "y_winner = np.argmax(y_pred_test, axis=1)\n",
    "N_test = y_winner.size\n",
    "num_correct = (y_winner == y_test_vec).sum()\n",
    "num_missed = N_test - num_correct\n",
    "accuracy = num_correct * 1.0 / N_test\n",
    "error_rate = num_missed * 1.0 / N_test\n",
    "print('# samples  : ', N_test)\n",
    "print('# correct  : ', num_correct)\n",
    "print('# missed   : ', num_missed)\n",
    "print('accuracy   :  %2.2f %%'% (accuracy*100.0))\n",
    "print('error rate :  %2.2f %%'% (error_rate*100.0))"
   ]
  },
  {
   "cell_type": "markdown",
   "metadata": {},
   "source": [
    "# Exercise 4"
   ]
  },
  {
   "cell_type": "code",
   "execution_count": 102,
   "metadata": {},
   "outputs": [],
   "source": [
    "import tensorflow as tf"
   ]
  },
  {
   "cell_type": "code",
   "execution_count": 103,
   "metadata": {},
   "outputs": [
    {
     "name": "stdout",
     "output_type": "stream",
     "text": [
      "MNIST data set ready. N=60000, D=784, n_classes=10\n"
     ]
    }
   ],
   "source": [
    "#############################\n",
    "# MNIST Dataset Preparation #\n",
    "#############################\n",
    "\n",
    "import numpy as np\n",
    "import tensorflow as tf\n",
    "import matplotlib.pyplot as plt\n",
    "\n",
    "mnist = tf.keras.datasets.mnist\n",
    "(x_train, y_train_vec),(x_test, y_test_vec) = mnist.load_data()\n",
    "x_train, x_test = x_train / 255.0, x_test / 255.0\n",
    "x_train = x_train.reshape(60000, 784)\n",
    "x_test = x_test.reshape(10000, 784)\n",
    "# convert class vectors to binary class matrices\n",
    "y_train = tf.keras.utils.to_categorical(y_train_vec, 10, dtype='float64')\n",
    "y_test = tf.keras.utils.to_categorical(y_test_vec, 10, dtype='float64')\n",
    "N = x_train.shape[0]         # number of samples\n",
    "D = x_train.shape[1]         # dimension of input sample\n",
    "n_classes = y_train.shape[1] # output dim\n",
    "print('MNIST data set ready. N={}, D={}, n_classes={}'.format(N,D,n_classes))"
   ]
  },
  {
   "cell_type": "code",
   "execution_count": 104,
   "metadata": {},
   "outputs": [],
   "source": [
    "model = tf.keras.models.Sequential()\n",
    "model.add(tf.keras.layers.Dense(300, input_shape=(D,), use_bias=True, activation='relu'))\n",
    "model.add(tf.keras.layers.Dense(10, input_shape=(D,), use_bias=True, activation='sigmoid'))"
   ]
  },
  {
   "cell_type": "code",
   "execution_count": 105,
   "metadata": {},
   "outputs": [
    {
     "name": "stdout",
     "output_type": "stream",
     "text": [
      "Model: \"sequential_11\"\n",
      "_________________________________________________________________\n",
      "Layer (type)                 Output Shape              Param #   \n",
      "=================================================================\n",
      "dense_20 (Dense)             (None, 300)               235500    \n",
      "_________________________________________________________________\n",
      "dense_21 (Dense)             (None, 10)                3010      \n",
      "=================================================================\n",
      "Total params: 238,510\n",
      "Trainable params: 238,510\n",
      "Non-trainable params: 0\n",
      "_________________________________________________________________\n"
     ]
    }
   ],
   "source": [
    "model.summary()"
   ]
  },
  {
   "cell_type": "code",
   "execution_count": 106,
   "metadata": {},
   "outputs": [],
   "source": [
    "sgd = tf.keras.optimizers.SGD(learning_rate=A)\n",
    "model.compile(optimizers=sgd, loss='mse', metrics=['accuracy'])"
   ]
  },
  {
   "cell_type": "code",
   "execution_count": 107,
   "metadata": {},
   "outputs": [],
   "source": [
    "#history1 = model.fit(x_train, y_train, epochs = E)"
   ]
  },
  {
   "cell_type": "code",
   "execution_count": 108,
   "metadata": {},
   "outputs": [
    {
     "name": "stdout",
     "output_type": "stream",
     "text": [
      "Train on 60000 samples, validate on 10000 samples\n",
      "Epoch 1/50\n",
      "60000/60000 [==============================] - 6s 92us/sample - loss: 0.0125 - accuracy: 0.9306 - val_loss: 0.0071 - val_accuracy: 0.9611\n",
      "Epoch 2/50\n",
      "60000/60000 [==============================] - 5s 78us/sample - loss: 0.0055 - accuracy: 0.9694 - val_loss: 0.0048 - val_accuracy: 0.9737\n",
      "Epoch 3/50\n",
      "60000/60000 [==============================] - 5s 80us/sample - loss: 0.0041 - accuracy: 0.9783 - val_loss: 0.0043 - val_accuracy: 0.9761\n",
      "Epoch 4/50\n",
      "60000/60000 [==============================] - 5s 77us/sample - loss: 0.0033 - accuracy: 0.9823 - val_loss: 0.0043 - val_accuracy: 0.9764\n",
      "Epoch 5/50\n",
      "60000/60000 [==============================] - 5s 84us/sample - loss: 0.0028 - accuracy: 0.9852 - val_loss: 0.0038 - val_accuracy: 0.9794\n",
      "Epoch 6/50\n",
      "60000/60000 [==============================] - 5s 81us/sample - loss: 0.0024 - accuracy: 0.9872 - val_loss: 0.0037 - val_accuracy: 0.9809\n",
      "Epoch 7/50\n",
      "60000/60000 [==============================] - 5s 79us/sample - loss: 0.0021 - accuracy: 0.9891 - val_loss: 0.0037 - val_accuracy: 0.9800\n",
      "Epoch 8/50\n",
      "60000/60000 [==============================] - 5s 87us/sample - loss: 0.0019 - accuracy: 0.9902 - val_loss: 0.0035 - val_accuracy: 0.9822\n",
      "Epoch 9/50\n",
      "60000/60000 [==============================] - 5s 81us/sample - loss: 0.0016 - accuracy: 0.9913 - val_loss: 0.0035 - val_accuracy: 0.9825\n",
      "Epoch 10/50\n",
      "60000/60000 [==============================] - 5s 77us/sample - loss: 0.0015 - accuracy: 0.9923 - val_loss: 0.0035 - val_accuracy: 0.9818\n",
      "Epoch 11/50\n",
      "60000/60000 [==============================] - 5s 80us/sample - loss: 0.0013 - accuracy: 0.9930 - val_loss: 0.0034 - val_accuracy: 0.9826\n",
      "Epoch 12/50\n",
      "60000/60000 [==============================] - 4s 75us/sample - loss: 0.0012 - accuracy: 0.9934 - val_loss: 0.0033 - val_accuracy: 0.9817\n",
      "Epoch 13/50\n",
      "60000/60000 [==============================] - 5s 83us/sample - loss: 0.0011 - accuracy: 0.9940 - val_loss: 0.0035 - val_accuracy: 0.9819\n",
      "Epoch 14/50\n",
      "60000/60000 [==============================] - 5s 83us/sample - loss: 9.9226e-04 - accuracy: 0.9945 - val_loss: 0.0033 - val_accuracy: 0.9835\n",
      "Epoch 15/50\n",
      "60000/60000 [==============================] - 5s 85us/sample - loss: 9.0184e-04 - accuracy: 0.9946 - val_loss: 0.0034 - val_accuracy: 0.9823\n",
      "Epoch 16/50\n",
      "60000/60000 [==============================] - 5s 89us/sample - loss: 8.4095e-04 - accuracy: 0.9949 - val_loss: 0.0038 - val_accuracy: 0.9817\n",
      "Epoch 17/50\n",
      "60000/60000 [==============================] - 5s 83us/sample - loss: 7.7207e-04 - accuracy: 0.9951 - val_loss: 0.0035 - val_accuracy: 0.9822\n",
      "Epoch 18/50\n",
      "60000/60000 [==============================] - 5s 80us/sample - loss: 7.4688e-04 - accuracy: 0.9954 - val_loss: 0.0035 - val_accuracy: 0.9828\n",
      "Epoch 19/50\n",
      "60000/60000 [==============================] - 5s 89us/sample - loss: 6.8833e-04 - accuracy: 0.9958 - val_loss: 0.0035 - val_accuracy: 0.9823\n",
      "Epoch 20/50\n",
      "60000/60000 [==============================] - 5s 87us/sample - loss: 6.7986e-04 - accuracy: 0.9959 - val_loss: 0.0035 - val_accuracy: 0.9828\n",
      "Epoch 21/50\n",
      "60000/60000 [==============================] - 5s 86us/sample - loss: 6.3100e-04 - accuracy: 0.9961 - val_loss: 0.0035 - val_accuracy: 0.9824\n",
      "Epoch 22/50\n",
      "60000/60000 [==============================] - 5s 89us/sample - loss: 5.9671e-04 - accuracy: 0.9962 - val_loss: 0.0034 - val_accuracy: 0.9836\n",
      "Epoch 23/50\n",
      "60000/60000 [==============================] - 5s 90us/sample - loss: 5.5703e-04 - accuracy: 0.9963 - val_loss: 0.0035 - val_accuracy: 0.9829\n",
      "Epoch 24/50\n",
      "60000/60000 [==============================] - 5s 83us/sample - loss: 5.3371e-04 - accuracy: 0.9963 - val_loss: 0.0034 - val_accuracy: 0.9840\n",
      "Epoch 25/50\n",
      "60000/60000 [==============================] - 5s 81us/sample - loss: 5.0412e-04 - accuracy: 0.9965 - val_loss: 0.0036 - val_accuracy: 0.9825\n",
      "Epoch 26/50\n",
      "60000/60000 [==============================] - 5s 76us/sample - loss: 5.0552e-04 - accuracy: 0.9965 - val_loss: 0.0035 - val_accuracy: 0.9825\n",
      "Epoch 27/50\n",
      "60000/60000 [==============================] - 5s 78us/sample - loss: 4.9521e-04 - accuracy: 0.9965 - val_loss: 0.0036 - val_accuracy: 0.9826\n",
      "Epoch 28/50\n",
      "60000/60000 [==============================] - 4s 74us/sample - loss: 4.6901e-04 - accuracy: 0.9967 - val_loss: 0.0036 - val_accuracy: 0.9830\n",
      "Epoch 29/50\n",
      "60000/60000 [==============================] - 5s 81us/sample - loss: 4.4797e-04 - accuracy: 0.9967 - val_loss: 0.0036 - val_accuracy: 0.9817\n",
      "Epoch 30/50\n",
      "60000/60000 [==============================] - 5s 80us/sample - loss: 4.3935e-04 - accuracy: 0.9968 - val_loss: 0.0035 - val_accuracy: 0.9826\n",
      "Epoch 31/50\n",
      "60000/60000 [==============================] - 5s 80us/sample - loss: 4.1781e-04 - accuracy: 0.9969 - val_loss: 0.0037 - val_accuracy: 0.9828\n",
      "Epoch 32/50\n",
      "60000/60000 [==============================] - 5s 85us/sample - loss: 4.0320e-04 - accuracy: 0.9969 - val_loss: 0.0036 - val_accuracy: 0.9830\n",
      "Epoch 33/50\n",
      "60000/60000 [==============================] - 5s 82us/sample - loss: 3.9194e-04 - accuracy: 0.9970 - val_loss: 0.0035 - val_accuracy: 0.9831\n",
      "Epoch 34/50\n",
      "60000/60000 [==============================] - 5s 86us/sample - loss: 3.8636e-04 - accuracy: 0.9970 - val_loss: 0.0035 - val_accuracy: 0.9831\n",
      "Epoch 35/50\n",
      "60000/60000 [==============================] - 5s 86us/sample - loss: 3.8242e-04 - accuracy: 0.9970 - val_loss: 0.0035 - val_accuracy: 0.9827\n",
      "Epoch 36/50\n",
      "60000/60000 [==============================] - 5s 78us/sample - loss: 3.6976e-04 - accuracy: 0.9971 - val_loss: 0.0037 - val_accuracy: 0.9826\n",
      "Epoch 37/50\n",
      "60000/60000 [==============================] - 5s 85us/sample - loss: 3.6311e-04 - accuracy: 0.9972 - val_loss: 0.0037 - val_accuracy: 0.9827\n",
      "Epoch 38/50\n",
      "60000/60000 [==============================] - 4s 74us/sample - loss: 3.4864e-04 - accuracy: 0.9972 - val_loss: 0.0036 - val_accuracy: 0.9836\n",
      "Epoch 39/50\n",
      "60000/60000 [==============================] - 5s 85us/sample - loss: 3.3748e-04 - accuracy: 0.9972 - val_loss: 0.0036 - val_accuracy: 0.9842\n",
      "Epoch 40/50\n",
      "60000/60000 [==============================] - 5s 84us/sample - loss: 3.3448e-04 - accuracy: 0.9973 - val_loss: 0.0035 - val_accuracy: 0.9838\n",
      "Epoch 41/50\n",
      "60000/60000 [==============================] - 5s 79us/sample - loss: 3.3401e-04 - accuracy: 0.9972 - val_loss: 0.0036 - val_accuracy: 0.9827\n",
      "Epoch 42/50\n",
      "60000/60000 [==============================] - 5s 75us/sample - loss: 3.2126e-04 - accuracy: 0.9973 - val_loss: 0.0035 - val_accuracy: 0.9830\n",
      "Epoch 43/50\n",
      "60000/60000 [==============================] - 5s 82us/sample - loss: 3.2438e-04 - accuracy: 0.9973 - val_loss: 0.0035 - val_accuracy: 0.9832\n",
      "Epoch 44/50\n",
      "60000/60000 [==============================] - 5s 78us/sample - loss: 3.1960e-04 - accuracy: 0.9973 - val_loss: 0.0035 - val_accuracy: 0.9833\n",
      "Epoch 45/50\n",
      "60000/60000 [==============================] - 5s 81us/sample - loss: 3.1333e-04 - accuracy: 0.9973 - val_loss: 0.0035 - val_accuracy: 0.9834\n",
      "Epoch 46/50\n",
      "60000/60000 [==============================] - 5s 80us/sample - loss: 3.0893e-04 - accuracy: 0.9974 - val_loss: 0.0035 - val_accuracy: 0.9839\n",
      "Epoch 47/50\n",
      "60000/60000 [==============================] - 5s 83us/sample - loss: 3.0083e-04 - accuracy: 0.9974 - val_loss: 0.0036 - val_accuracy: 0.9828\n",
      "Epoch 48/50\n",
      "60000/60000 [==============================] - 5s 76us/sample - loss: 2.9964e-04 - accuracy: 0.9973 - val_loss: 0.0036 - val_accuracy: 0.9831\n",
      "Epoch 49/50\n",
      "60000/60000 [==============================] - 5s 80us/sample - loss: 2.9543e-04 - accuracy: 0.9974 - val_loss: 0.0035 - val_accuracy: 0.9831\n",
      "Epoch 50/50\n",
      "60000/60000 [==============================] - 5s 84us/sample - loss: 2.9484e-04 - accuracy: 0.9974 - val_loss: 0.0035 - val_accuracy: 0.9828\n"
     ]
    }
   ],
   "source": [
    "history = model.fit(x_train,y_train,epochs=E,verbose=1,validation_data=(x_test,y_test))"
   ]
  },
  {
   "cell_type": "code",
   "execution_count": 109,
   "metadata": {},
   "outputs": [
    {
     "name": "stdout",
     "output_type": "stream",
     "text": [
      "10000/1 - 0s - loss: 0.0018 - accuracy: 0.9828\n"
     ]
    },
    {
     "data": {
      "text/plain": [
       "[0.0035325256125644743, 0.9828]"
      ]
     },
     "execution_count": 109,
     "metadata": {},
     "output_type": "execute_result"
    }
   ],
   "source": [
    "model.evaluate(x_test, y_test, verbose=2)"
   ]
  },
  {
   "cell_type": "code",
   "execution_count": 110,
   "metadata": {},
   "outputs": [
    {
     "data": {
      "image/png": "[encoded data removed]",
      "text/plain": [
       "<matplotlib.figure.Figure at 0x20d2def7518>"
      ]
     },
     "metadata": {},
     "output_type": "display_data"
    }
   ],
   "source": [
    "plt.plot(history.history['loss'], label='Training')\n",
    "plt.plot(history.history['val_loss'], label='Testing')\n",
    "plt.legend()\n",
    "plt.grid()"
   ]
  },
  {
   "cell_type": "markdown",
   "metadata": {},
   "source": [
    "## Comparison\n",
    "- Accuracy Exercise 3 = 88.22 %\n",
    "- Accuracy Exercise 4 = 98.28 %"
   ]
  },
  {
   "cell_type": "code",
   "execution_count": null,
   "metadata": {},
   "outputs": [],
   "source": []
  }
 ],
 "metadata": {
  "kernelspec": {
   "display_name": "Python 3",
   "language": "python",
   "name": "python3"
  },
  "language_info": {
   "codemirror_mode": {
    "name": "ipython",
    "version": 3
   },
   "file_extension": ".py",
   "mimetype": "text/x-python",
   "name": "python",
   "nbconvert_exporter": "python",
   "pygments_lexer": "ipython3",
   "version": "3.6.4"
  }
 },
 "nbformat": 4,
 "nbformat_minor": 2
}
