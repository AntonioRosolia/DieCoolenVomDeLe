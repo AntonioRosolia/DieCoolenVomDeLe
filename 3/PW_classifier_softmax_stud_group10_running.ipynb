{
 "cells": [
  {
   "cell_type": "markdown",
   "metadata": {},
   "source": [
    "## MNIST Data\n",
    "\n",
    "group: Fabian Widmer, Stefano Balestra, Antonio Rosolia\n",
    "\n",
    "Full classification of MNIST data.\n",
    "\n",
    "The original MNIST dataset is used.\n",
    "\n",
    "The following notation is used: <br>\n",
    "<code>m</code>: Number of samples <br>\n",
    "<code>n</code>: Number of features\n",
    "\n",
    "Here the features refer to the pixel values of the images.\n",
    "\n",
    "### Notes:\n",
    "- Those are notes for the group, prior to the 11.10. there was an error in the notebook, this was fixed.\n",
    "- Therefore the notes are not importnat anymore but they give insights on what was done.\n",
    "- It does not run as expected!\n",
    "--> it looks like it is overfitting because the train error gets smaller and smaller but the test error is at a minimum (not a good minimum!) after just ~5 epochs and is increasing after that!\n",
    "- there must be a mistake somewhere in the notebook\n",
    "- also the test cost is not a number after ~4-5 epochs --> why?\n",
    "- this leads to a wrong plot in the plot_cost_curve\n",
    "-  norm goes to infinety --> leads to nan in ypred -> \n",
    "   leads to nan in p -> leads to nan in ypred_test (only with test data!)\n",
    "   --> X test data must be flawed! x_test has the right shape (10,14000) \n",
    "   and consists of zeros\n"
   ]
  },
  {
   "cell_type": "markdown",
   "metadata": {},
   "source": [
    "### Data Folder\n",
    "\n",
    "The data can be loaded by using suitable functionality in sklearn which will use a dedicated folder on your local disk for caching. Specify the folder to be used. "
   ]
  },
  {
   "cell_type": "code",
   "execution_count": 96,
   "metadata": {},
   "outputs": [],
   "source": [
    "### START YOUR CODE ### \n",
    "import os\n",
    "data_home = \"./mnist-data\"\n",
    "if not os.path.exists(data_home):\n",
    "    os.makedirs(data_home)\n",
    "### END YOUR CODE ### "
   ]
  },
  {
   "cell_type": "markdown",
   "metadata": {},
   "source": [
    "### Data Preparation\n",
    "\n",
    "Some preparatory steps to be applied before training:\n",
    "* Loading the data\n",
    "* Some plots\n",
    "* Extracting two digits and restricting the classification task to that so that the dataset is well balanced.\n",
    "* Splitting the dataset into train and test\n",
    "* Normalizing the intensities to the range [-1,1]"
   ]
  },
  {
   "cell_type": "markdown",
   "metadata": {},
   "source": [
    "#### Plotting Utility"
   ]
  },
  {
   "cell_type": "code",
   "execution_count": 97,
   "metadata": {},
   "outputs": [],
   "source": [
    "import numpy as np \n",
    "import matplotlib.pyplot as plt\n",
    "\n",
    "def plot_img(img, label, shape):\n",
    "    \"\"\"\n",
    "    Plot the x array by reshaping it into a square array of given shape\n",
    "    and print the label.\n",
    "    \n",
    "    Parameters:\n",
    "    img -- array with the intensities to be plotted of shape (shape[0]*shape[1])\n",
    "    label -- label \n",
    "    shape -- 2d tuple with the dimensions of the image to be plotted.\n",
    "    \"\"\"\n",
    "    plt.imshow(np.reshape(img, shape), cmap=plt.cm.gray)\n",
    "    plt.title(\"Label %i\"%label)\n",
    "\n",
    "\n",
    "def plot_digits(x,y,selection,shape, cols=5):\n",
    "    \"\"\"\n",
    "    Plots the digits in a mosaic with given number of columns.\n",
    "\n",
    "    Arguments:\n",
    "    x -- array of images of size (n,m)\n",
    "    y -- array of labels of size (1,m)\n",
    "    selection -- list of selection of samples to be plotted\n",
    "    shape -- shape of the images (a 2d tuple)\n",
    "    selected_digits -- tuple with the two selected digits (the first associated with label 1, the second with label 0)\n",
    "    \"\"\"\n",
    "    if len(selection)==0:\n",
    "        print(\"No images in the selection!\")\n",
    "        return\n",
    "    cols = min(cols, len(selection))\n",
    "    rows = len(selection)/cols+1\n",
    "    plt.figure(figsize=(20,4*rows))\n",
    "    for index, (image, label) in enumerate(zip(x.T[selection,:], y.T[selection,:])):\n",
    "        plt.subplot(rows, cols, index+1)\n",
    "        plt.imshow(np.reshape(image, shape), cmap=plt.cm.gray)\n",
    "        plt.title('Sample %i\\n Label %i\\n' % (selection[index],label), fontsize = 12)\n",
    "    plt.tight_layout()"
   ]
  },
  {
   "cell_type": "markdown",
   "metadata": {},
   "source": [
    "#### Load Data"
   ]
  },
  {
   "cell_type": "code",
   "execution_count": 98,
   "metadata": {
    "scrolled": false
   },
   "outputs": [],
   "source": [
    "import numpy as np\n",
    "from sklearn.datasets import fetch_openml\n",
    "#from sklearn import *\n",
    "#import sklearn as sklearn\n",
    "\n",
    "def load_mnist(data_home):\n",
    "    \"\"\"\n",
    "    Loads the mnist dataset, prints the shape of the dataset and \n",
    "    returns the array with the images, the array with associated labels \n",
    "    and the shape of the images.     \n",
    "    Parameters: \n",
    "    data_home -- Absolute path to the DATA_HOME  \n",
    "    \n",
    "    Returns:\n",
    "    x -- array with images of shape (784,m) where m is the number of images\n",
    "    y -- array with associated labels with shape (1,m) where m is the number of images\n",
    "    shape -- (28,28)\n",
    "    \"\"\"\n",
    "    #print(sklearn)\n",
    "    #print(sklearn.__version__)\n",
    "    mnist = fetch_openml(name='mnist_784', version=1, cache=True, data_home=data_home)\n",
    "    x, y = mnist['data'].T, np.array(mnist['target'], dtype='int').T\n",
    "    m = x.shape[1]\n",
    "    y = y.reshape(1,m)\n",
    "    print(\"Loaded MNIST original:\")\n",
    "    print(\"Image Data Shape\" , x.shape)\n",
    "    print(\"Label Data Shape\", y.shape)\n",
    "    return x,y,(28,28)\n"
   ]
  },
  {
   "cell_type": "markdown",
   "metadata": {},
   "source": [
    "## Split Data and bring it in the correct shape\n",
    "\n",
    "Split the data into training set and test set.\n",
    "We use the scikit-learn function 'train_test_split' and use 20% of the samples as test data.\n",
    "\n",
    "Furthermore, we bring the input data (x) into the shape (n,m) where n is the number of input features and m the number of samples.  "
   ]
  },
  {
   "cell_type": "code",
   "execution_count": 99,
   "metadata": {
    "scrolled": true
   },
   "outputs": [],
   "source": [
    "from sklearn.model_selection import train_test_split\n",
    "#import sklearn as sklearn\n",
    "\n",
    "def prepare_train_test(x, y, test_size=0.20):\n",
    "    \"\"\"\n",
    "    Split the dataset consisting of an array of images (shape (m,n)) and an array of labels (shape (n,))\n",
    "    into train and test set.\n",
    "    \n",
    "    Parameters:\n",
    "    x -- Array of images of shape (n,m) where m is the number of samples\n",
    "    y -- Array of labels of shape (m,) where m is the number of samples\n",
    "    test_size -- fraction of samples to reserve as test sample\n",
    "    \n",
    "    Returns:\n",
    "    x_train -- list of images of shape (n,m1) used for training\n",
    "    y_train -- list of labels of shape (1,m1) used for training\n",
    "    x_test -- list of images of shape (n,m2) used for testing\n",
    "    y_test -- list of labels of shape (1,m2) used for testing\n",
    "    \"\"\"\n",
    "    # split \n",
    "    # We use the functionality of sklearn which assumes that the samples are enumerated with the first index \n",
    "    x_train, x_test, y_train, y_test = train_test_split(x.T, y.T, test_size=0.20, random_state=1)\n",
    "\n",
    "    # reshape - transpose back the output obtained from the train_test_split-function\n",
    "    x_train = x_train.T\n",
    "    x_test = x_test.T\n",
    "    m_train = x_train.shape[1]\n",
    "    m_test = x_test.shape[1]\n",
    "    y_train=y_train.reshape(1,m_train)\n",
    "    y_test=y_test.reshape(1,m_test)\n",
    "\n",
    "    print(\"Shape training set: \", x_train.shape, y_train.shape)\n",
    "    print(\"Shape test set:     \", x_test.shape, y_test.shape)\n",
    "    \n",
    "    return x_train, x_test, y_train, y_test"
   ]
  },
  {
   "cell_type": "markdown",
   "metadata": {},
   "source": [
    "#### Data Normalisation\n",
    "\n",
    "Normalize the data - apply min/max normalization.\n"
   ]
  },
  {
   "cell_type": "code",
   "execution_count": 100,
   "metadata": {
    "scrolled": true
   },
   "outputs": [],
   "source": [
    "import numpy as np\n",
    "\n",
    "def normalize(x_train,x_test):\n",
    "    \"\"\"\n",
    "    Applies min/max-normalizes - min and max values computed from the training set.\n",
    "    Common min and max values for all features are used.\n",
    "    \n",
    "    Parameters:\n",
    "    x_train -- Array of training samples of shape (n,m1) where n,m1 are the number of features and samples, respectively.  \n",
    "    x_test -- Array of test samples of shape (n,m2) where n,m2 are the number of features and samples, respectively. \n",
    "    \n",
    "    Returns:\n",
    "    The arrays with the normalized train and test samples.  \n",
    "    \"\"\"\n",
    "    ### START YOUR CODE ###  \n",
    "    \n",
    "    xmax = np.max(x_train)\n",
    "    xmin = np.min(x_train)\n",
    "    #print(\"xmin, xmax: \",xmin, xmax)\n",
    "    #x_train = 2*((x_train-xmin)/(xmax - xmin))-1\n",
    "    #print(x_train.shape)\n",
    "    #x_train = x_train / xmax\n",
    "    #x_test = x_test / xmax\n",
    "\n",
    "    x_train = x_train / xmax\n",
    "    x_test = x_test / xmax\n",
    "    ### END YOUR CODE ###\n",
    "    return x_train, x_test "
   ]
  },
  {
   "cell_type": "markdown",
   "metadata": {},
   "source": [
    "### Softmax"
   ]
  },
  {
   "cell_type": "code",
   "execution_count": 101,
   "metadata": {
    "scrolled": true
   },
   "outputs": [],
   "source": [
    "def predict(W, b, X):\n",
    "    '''\n",
    "    Compute the per class probabilities for all the m samples by using a softmax layer with parameters (W, b).\n",
    "    \n",
    "    Arguments:\n",
    "    W -- weights, a numpy array with shape (ny, nx) (with ny=10 for MNIST).\n",
    "    b -- biases, a numpy array with shape (ny,1)\n",
    "    X -- input data of size (nx,m)\n",
    "    \n",
    "    Returns:\n",
    "    A -- a numpy array of shape (ny,m) with the prediction probabilities for the digits.\n",
    "    ''' \n",
    "    ### START YOUR CODE ###\n",
    "    # np.exp: https://docs.scipy.org/doc/numpy/reference/generated/numpy.exp.html\n",
    "    # sum needs to be performed along 0 axis! https://docs.scipy.org/doc/numpy/reference/generated/numpy.sum.html\n",
    "    z = np.dot(W,X)+b\n",
    "    expz = np.exp(z)\n",
    "    A = expz/(np.sum(expz, axis=0))\n",
    "    #print(A)\n",
    "    # norm goes to infinety --> leads to nan in ypred -> \n",
    "    #leads to nan in p -> leads to nan in ypred_test (only with test data!)\n",
    "    # --> X test data must be flawed! x_test has the right shape (10,14000) \n",
    "    # and consists of zeros\n",
    "    #norm = np.sum(expz, axis=0)\n",
    "    #print(\"norm: \", norm)\n",
    "    #A = expz/norm\n",
    "    return A\n",
    "    \n",
    "    ### END YOUR CODE ###"
   ]
  },
  {
   "cell_type": "markdown",
   "metadata": {},
   "source": [
    "#### TEST Softmax"
   ]
  },
  {
   "cell_type": "code",
   "execution_count": 102,
   "metadata": {},
   "outputs": [],
   "source": [
    "W = np.array([[1,-1],[0,1],[-1,1]]).reshape(3,2)\n",
    "b = np.array([0,0,0]).reshape(3,1)\n",
    "X = np.array([2, 3]).reshape(2,1)\n",
    "A = predict(W,b,X)\n",
    "Aexp = np.array([0.01587624,0.86681333,0.11731043]).reshape(A.shape)\n",
    "np.testing.assert_array_almost_equal(A,Aexp,decimal=8)\n",
    "np.testing.assert_array_almost_equal(np.sum(A, axis=0), 1.0, decimal=8)\n",
    "\n",
    "X = np.array([[2,-1,1,-1],[1,1,1,1]]).reshape(2,4)\n",
    "A = predict(W,b,X)\n",
    "Aexp = np.array([[0.46831053, 0.01321289, 0.21194156, 0.01321289],\n",
    " [0.46831053, 0.26538793, 0.57611688, 0.26538793],\n",
    " [0.06337894, 0.72139918, 0.21194156, 0.72139918]]\n",
    ")\n",
    "np.testing.assert_array_almost_equal(A,Aexp,decimal=8)\n",
    "np.testing.assert_array_almost_equal(np.sum(A, axis=0), np.ones(4,dtype='float'), decimal=8)"
   ]
  },
  {
   "cell_type": "markdown",
   "metadata": {},
   "source": [
    "### Cost Function (Cross Entropy)\n"
   ]
  },
  {
   "cell_type": "code",
   "execution_count": 103,
   "metadata": {
    "scrolled": true
   },
   "outputs": [],
   "source": [
    "def cost(Ypred, Y):\n",
    "    \"\"\"\n",
    "    Computes the cross entropy cost function for given predicted values and labels.\n",
    "    \n",
    "    Parameters:\n",
    "    Ypred -- prediction from softmax, a numpy array of shape (ny,m)\n",
    "    Y -- ground truth labels - a numpy array with shape (1,m) containing digits 0,1,...,9. \n",
    "    \n",
    "    Returns:\n",
    "    Cross Entropy Cost - a scalar value\n",
    "    \"\"\"\n",
    "    ### START YOUR CODE ###  \n",
    "    # from 3/p.31: \n",
    "    # J = -1/m SUM(log(p(y,x),theta))\n",
    "    # p(y=1,x) = h\n",
    "    # p(y=0,x) = 1-h\n",
    "    # h = sigma(w*x+b) for sigma=1/(1+exp(-z))\n",
    "    # Keine Ahnung wie p(yi|xi, theta) berechnet wird!\n",
    "    # gemäss: https://deepnotes.io/softmax-crossentropy log_likelihood=-np.log(Ypred[Y, range(m)])\n",
    "\n",
    "    m = Ypred.shape[1]\n",
    "    p = Ypred[Y,range(m)]\n",
    "    J = -np.sum(np.log(p))/m\n",
    "    #print(\"Y: \", Y)\n",
    "    #print(\"Ypred: \", Ypred)\n",
    "    #print(\"Ypred.shape: \", Ypred.shape)\n",
    "    #print(\"m: \", m)\n",
    "    #print(\"p: \", p)\n",
    "    return J\n",
    " \n",
    "    ### END YOUR CODE ###"
   ]
  },
  {
   "cell_type": "markdown",
   "metadata": {},
   "source": [
    "#### TEST Cross Entropy Cost "
   ]
  },
  {
   "cell_type": "code",
   "execution_count": 104,
   "metadata": {},
   "outputs": [],
   "source": [
    "Y = np.array([1])\n",
    "Ypred = np.array([0.04742587,0.95257413]).reshape(2,1)\n",
    "J = cost(Ypred,Y)\n",
    "Jexp = 0.04858735\n",
    "np.testing.assert_almost_equal(J,Jexp,decimal=8)\n",
    "\n",
    "Y = np.array([1,1,1,0])\n",
    "Ypred = np.array([[1.79862100e-02, 6.69285092e-03, 4.74258732e-02, 9.99088949e-01],\n",
    "                  [9.82013790e-01, 9.93307149e-01, 9.52574127e-01, 9.11051194e-04]])\n",
    "Jexp = 0.01859102\n",
    "J = cost(Ypred,Y)\n",
    "np.testing.assert_almost_equal(J,Jexp,decimal=8)"
   ]
  },
  {
   "cell_type": "markdown",
   "metadata": {},
   "source": [
    "### Update Rules for the Parameters\n",
    "\n",
    "Different update rules associated with the different cost functions."
   ]
  },
  {
   "cell_type": "code",
   "execution_count": 105,
   "metadata": {},
   "outputs": [],
   "source": [
    "def onehot(y,n):\n",
    "    \"\"\"\n",
    "    Constructs a one-hot-vector from a given array of labels (shape (1,m), containing numbers 0,1,...,n-1) \n",
    "    and the number of classes n.\n",
    "    The resulting array has shape (n,m) and in row j and column i a '1' if the i-th sample has label 'j'. \n",
    "    \n",
    "    Parameters:\n",
    "    y -- labels, numpy array of shape (1,m) \n",
    "    n -- number of classes\n",
    "\n",
    "    Returns:\n",
    "    On-hot-encoded vector of shape (n,m)\n",
    "    \"\"\"\n",
    "    \n",
    "    ### START YOUR CODE ###\n",
    "    # with changes from: https://deepnotes.io/softmax-crossentropy\n",
    "    # if result is divided by m as in the link above result = [[0,0,0.3333] etc.]\n",
    "    \n",
    "    m = y.shape[1]\n",
    "    #print(m)\n",
    "    result = np.zeros((n,m),dtype=float)\n",
    "    result[y,range(m)] = 1\n",
    "    #print(result)\n",
    "    result = result\n",
    "\n",
    "    ### START YOUR CODE ###\n",
    "    return result"
   ]
  },
  {
   "cell_type": "code",
   "execution_count": 106,
   "metadata": {},
   "outputs": [],
   "source": [
    "## Test ##\n",
    "Y = np.array([1,3,0]).reshape(1,3)\n",
    "onehot_comp = onehot(Y,4)\n",
    "onehot_exp = np.array([[0,0,1],[1,0,0],[0,0,0],[0,1,0]]).reshape(4,3)\n",
    "np.testing.assert_almost_equal(onehot_exp,onehot_comp,decimal=8)"
   ]
  },
  {
   "cell_type": "code",
   "execution_count": 107,
   "metadata": {
    "scrolled": true
   },
   "outputs": [],
   "source": [
    "def gradient(X, Y, A):\n",
    "    \"\"\"\n",
    "    Computes the update of the weights and bias - by using the cross entropy cost. \n",
    "    \n",
    "    Arguments:\n",
    "    X -- input data of size (nx,m)\n",
    "    Y -- output labels - a numpy array with shape (1,m).\n",
    "    A -- predicted scores - a numpy array with shape (ny,m) \n",
    "    \n",
    "    Returns:\n",
    "    gradJ -- dictionary with the gradient w.r.t. W (key \"dW\" with shape (ny,nx)) and w.r.t. b (key \"db\" with shape (ny,1))\n",
    "    \"\"\"\n",
    "    ### START YOUR CODE ### \n",
    "    # \n",
    "    m = Y.shape[1]\n",
    "    ny = A.shape[0]\n",
    "    hot = np.zeros((ny,m),dtype=float)\n",
    "    hot = onehot(Y,ny)\n",
    "    #print(\"hot: \",hot)\n",
    "    #print(\"A: \",A)\n",
    "    hot -= A\n",
    "    #print(\"new hot: \",hot)\n",
    "    dw = np.zeros((ny,X.shape[0]), dtype=float)\n",
    "    db = np.zeros((ny,1), dtype=float)\n",
    "    dw = -np.dot(hot,X.T)/m\n",
    "    db = -np.sum(hot, axis=1).reshape(ny,1)/m\n",
    "    #dw = -np.dot(hot,X.T)/m  # shape (ny,nx)\n",
    "    #db = -np.sum(hot, axis=1).reshape(ny,1)/m\n",
    "    gradJ = {\"dW\": dw, \"db\": db}\n",
    "    return gradJ\n",
    "    \n",
    "    \n",
    "    ### END YOUR CODE ###\n",
    "    "
   ]
  },
  {
   "cell_type": "markdown",
   "metadata": {},
   "source": [
    "#### Test the Calculation of the Gradient"
   ]
  },
  {
   "cell_type": "code",
   "execution_count": 108,
   "metadata": {},
   "outputs": [],
   "source": [
    "W = np.array([[1,-1],[0,1],[-1,1]]).reshape(3,2)\n",
    "b = np.array([0,0,0]).reshape(3,1)\n",
    "X = np.array([[2,-1,1,-1],[1,1,1,1]]).reshape(2,4)\n",
    "A = predict(W,b,X)\n",
    "\n",
    "Y = np.array([1,1,1,1]).reshape(1,4)\n",
    "\n",
    "gradJ = gradient(X,Y,A)\n",
    "dW = gradJ['dW']\n",
    "db = gradJ['db']\n",
    "dWexp = np.array([[ 0.28053421,0.17666947],\n",
    "                  [-0.00450948,-0.60619918],\n",
    "                  [-0.27602473,0.42952972]]).reshape(3,2)\n",
    "dbexp = np.array([0.17666947,-0.60619918,0.42952972]).reshape(3,1)\n",
    "np.testing.assert_array_almost_equal(dW,dWexp,decimal=8)\n",
    "np.testing.assert_array_almost_equal(db,dbexp, decimal=8)"
   ]
  },
  {
   "cell_type": "markdown",
   "metadata": {},
   "source": [
    "### Metrics for measuring the performance of the algorithm"
   ]
  },
  {
   "cell_type": "code",
   "execution_count": 109,
   "metadata": {
    "scrolled": true
   },
   "outputs": [],
   "source": [
    "def error_rate(Ypred, Y):\n",
    "    \"\"\"\n",
    "    Compute the error rate defined as the fraction of misclassified samples.\n",
    "    \n",
    "    Arguments:\n",
    "    Ypred -- Predicted label, a numpy array of size (1,m)\n",
    "    Y -- ground truth labels, a numpy array with shape (1,m)\n",
    "\n",
    "    Returns:\n",
    "    error_rate -- an array of shape (1,m)\n",
    "    \"\"\"\n",
    "    Ypredargmax = np.argmax(Ypred, axis=0)\n",
    "    return np.sum(Y != Ypredargmax) / Y.size"
   ]
  },
  {
   "cell_type": "markdown",
   "metadata": {},
   "source": [
    "### Initialize and Optimize (Learn)\n",
    "\n",
    "#### Initialize Parameters\n",
    "\n",
    "First we provide a utility method to generate properly intialized parameters. "
   ]
  },
  {
   "cell_type": "code",
   "execution_count": 110,
   "metadata": {
    "scrolled": true
   },
   "outputs": [],
   "source": [
    "def initialize_params(nx, ny, random=False):\n",
    "    \"\"\"\n",
    "    This function provides initialized parameters: a weights matrix and a bias vector. \n",
    "    \n",
    "    Argument:\n",
    "    nx -- number of input features\n",
    "    ny -- number of output dimensions (number of different labels)\n",
    "    random -- if set to True standard normal distributed values are set for the weights; otherwise zeros are used.\n",
    "    \n",
    "    Returns:\n",
    "    w -- initialized weights matrix of shape (ny,nx)\n",
    "    b -- initialized bias vector of shape (ny,1) - always initialized with zeros\n",
    "    \"\"\"\n",
    "    if random:\n",
    "        w = np.random.randn(*(ny,nx)) / np.sqrt(nx)\n",
    "    else:\n",
    "        w = np.zeros((ny,nx))\n",
    "    \n",
    "    b = 0.0\n",
    "    \n",
    "    return w, b"
   ]
  },
  {
   "cell_type": "markdown",
   "metadata": {},
   "source": [
    "#### Metrics Class\n",
    "\n",
    "For not littering the optimization loop with code to keep track of the learning results over the epochs we defined a suitable metrics object that keeps all the data (cost function, classification error vs epochs). It also provides utility methods for updating, printing values or plotting the learning curves.\n",
    "\n",
    "It is defined as python class the metrics object then needs to be instantiated from. It means that some small knowledge about object-oriented programming is needed here.   "
   ]
  },
  {
   "cell_type": "code",
   "execution_count": 111,
   "metadata": {},
   "outputs": [],
   "source": [
    "class Metrics():\n",
    "    \"\"\"\n",
    "    Allows to collect statistics (such as classification error or cost) that are of interest over the course of training\n",
    "    and for creating learning curves that are a useful tool for analyzing the quality of the learning.\n",
    "    \"\"\"\n",
    "    \n",
    "    def __init__(self, cost, smooth=False):\n",
    "        \"\"\"\n",
    "        Constructor for a metrics object. \n",
    "        Initializes all the statistics to track in form of python lists.\n",
    "        \n",
    "        Parameters:\n",
    "        cost -- cost function to use (a python function)\n",
    "        smooth -- if set to true updates learning curve after each training step and also provides learning curves \n",
    "        smoothed over the epoch  \n",
    "        \"\"\"\n",
    "        self.epochs = []\n",
    "        self.smooth = smooth\n",
    "        self.train_costs_last = []\n",
    "        self.test_costs_last = []\n",
    "        self.train_errors_last = []\n",
    "        self.test_errors_last = []\n",
    "        self.stepsize_w_last = []\n",
    "        self.stepsize_b_last = []\n",
    "        if self.smooth:\n",
    "            self.train_costs_smoothed = []\n",
    "            self.test_costs_smoothed = []\n",
    "            self.train_errors_smoothed = []\n",
    "            self.test_errors_smoothed = []\n",
    "            self.stepsize_w_smoothed = []\n",
    "            self.stepsize_b_smoothed = []\n",
    "\n",
    "        self.cost_function = cost\n",
    "        self.init_epoch()\n",
    "\n",
    "            \n",
    "    def init_epoch(self):\n",
    "        self.train_costs_epoch = []\n",
    "        self.test_costs_epoch = []\n",
    "        self.train_errors_epoch = []\n",
    "        self.test_errors_epoch = []\n",
    "        self.stepsize_w_epoch = []\n",
    "        self.stepsize_b_epoch = []\n",
    "        \n",
    "        \n",
    "    def update_epoch(self, epoch):\n",
    "        \"\"\"\n",
    "        Computes the average of the metrics over the epoch and adds the result to the per epoch history\n",
    "        \n",
    "        Parameters:\n",
    "        epoch -- the epoch to add to the per epoch cache\n",
    "        \"\"\"\n",
    "        self.epochs.append(epoch)\n",
    "        if self.smooth:\n",
    "            self.train_costs_smoothed.append(np.mean(self.train_costs_epoch))\n",
    "            self.test_costs_smoothed.append(np.mean(self.test_costs_epoch))\n",
    "            self.train_errors_smoothed.append(np.mean(self.train_errors_epoch))\n",
    "            self.test_errors_smoothed.append(np.mean(self.test_errors_epoch))\n",
    "            self.stepsize_w_smoothed.append(np.mean(self.stepsize_w_epoch))\n",
    "            self.stepsize_b_smoothed.append(np.mean(self.stepsize_b_epoch))                    \n",
    "\n",
    "        self.train_costs_last.append(self.train_costs_epoch[-1])\n",
    "        self.test_costs_last.append(self.test_costs_epoch[-1])\n",
    "        self.train_errors_last.append(self.train_errors_epoch[-1])\n",
    "        self.test_errors_last.append(self.test_errors_epoch[-1])\n",
    "        self.stepsize_w_last.append(self.stepsize_w_epoch[-1])\n",
    "        self.stepsize_b_last.append(self.stepsize_b_epoch[-1])                    \n",
    "        \n",
    "        self.init_epoch()\n",
    "    \n",
    "        \n",
    "    def update_iteration(self, ypred_train, y_train, ypred_test, y_test, dw, db):\n",
    "        \"\"\"\n",
    "        Allows to update the statistics to be tracked for a new epoch.\n",
    "        The cost is computed by using the function object passed to the constructor.\n",
    "        \n",
    "        Parameters:\n",
    "        epoch -- Epoch\n",
    "        ypred_train -- predicted values on the training samples, a numpy array of shape (1,m1)\n",
    "        y_train -- ground truth labels associated with the training samples, a numpy array of shape (1,m1)\n",
    "        ypred_test -- predicted values on the test samples, a numpy array of shape (1,m2)\n",
    "        y_test -- ground truth labels associated with the test samples, a numpy array of shape (1,m2)\n",
    "        dw -- some lenght measure for the gradient w.r.t. the weights, a numpy array of shape (1,n)\n",
    "        db -- gradient w.r.t. the bias, a scalar\n",
    "        \"\"\"\n",
    "        Jtrain = self.cost_function(ypred_train, y_train)\n",
    "        Jtest = self.cost_function(ypred_test, y_test)\n",
    "        train_error = error_rate(ypred_train, y_train)\n",
    "        test_error = error_rate(ypred_test, y_test)\n",
    "\n",
    "        self.train_costs_epoch.append(Jtrain)\n",
    "        self.test_costs_epoch.append(Jtest)\n",
    "        self.train_errors_epoch.append(train_error)\n",
    "        self.test_errors_epoch.append(test_error)\n",
    "        self.stepsize_w_epoch.append(dw)\n",
    "        self.stepsize_b_epoch.append(db)\n",
    "        \n",
    "        #print(\"Jtrain: \", Jtrain)\n",
    "        #print(\"Jtest: \", Jtest)\n",
    "        \n",
    "        \n",
    "    def print_latest_errors(self):\n",
    "        print (\"Train/test error after epoch %i: %f, %f\" %(self.epochs[-1], self.train_errors_last[-1], self.test_errors_last[-1]))\n",
    "\n",
    "    def print_latest_costs(self):\n",
    "        print (\"Train/test cost after epoch %i: %f, %f\" %(self.epochs[-1], self.train_costs_last[-1], self.test_costs_last[-1]))\n",
    "\n",
    "    def plot_cost_curves(self, ymin=None, ymax=None, smooth=True):\n",
    "        plt.semilogy(self.epochs, self.train_costs_last, \"b-\", label=\"train\")\n",
    "        plt.semilogy(self.epochs, self.test_costs_last, \"r-\", label=\"test\")\n",
    "        if self.smooth and smooth:\n",
    "            plt.semilogy(self.epochs, self.train_costs_smoothed, \"b--\", label=\"train_smoothed\")\n",
    "            plt.semilogy(self.epochs, self.test_costs_smoothed, \"r--\", label=\"test_smoothed\")\n",
    "        plt.ylabel('Cost')\n",
    "        plt.xlabel('Epochs')\n",
    "        xmax = self.epochs[-1]\n",
    "        if not ymin:\n",
    "            ymin = min(max(1e-5,np.min(self.train_costs_last)),max(1e-5,np.min(self.test_costs_last))) * 0.8\n",
    "        if not ymax:\n",
    "            ymax = max(np.max(self.train_costs_last),np.max(self.test_costs_last)) * 1.2\n",
    "        plt.axis([0,xmax,ymin,ymax])\n",
    "        plt.legend()\n",
    "        plt.show()        \n",
    "    \n",
    "    def plot_error_curves(self, ymin=None, ymax=None, smooth=True):\n",
    "        plt.semilogy(self.epochs, self.train_errors_last, \"b\", label=\"train\")\n",
    "        plt.semilogy(self.epochs, self.test_errors_last, \"r\", label=\"test\")\n",
    "        if self.smooth and smooth:\n",
    "            plt.semilogy(self.epochs, self.train_errors_smoothed, \"b--\", label=\"train_smoothed\")\n",
    "            plt.semilogy(self.epochs, self.test_errors_smoothed, \"r--\", label=\"test_smoothed\")\n",
    "        plt.ylabel('Errors')\n",
    "        plt.xlabel('Epochs')\n",
    "        xmax = self.epochs[-1]\n",
    "        if not ymin:\n",
    "            ymin = min(max(1e-5,np.min(self.train_errors_last)),max(1e-5,np.min(self.test_errors_last))) * 0.8\n",
    "        if not ymax:\n",
    "            ymax = max(np.max(self.train_errors_last),np.max(self.test_errors_last)) * 1.2\n",
    "        plt.axis([0,xmax,ymin,ymax])\n",
    "        plt.legend()\n",
    "        plt.show()        \n",
    "\n",
    "    def plot_stepsize_curves(self, ymin=None, ymax=None, smooth=True):\n",
    "        plt.semilogy(self.epochs, self.stepsize_w_last, label=\"dw\")\n",
    "        plt.semilogy(self.epochs, self.stepsize_b_last, label=\"db\")\n",
    "        if self.smooth and smooth:\n",
    "            plt.semilogy(self.epochs, self.stepsize_w_smoothed, label=\"dw--\")\n",
    "            plt.semilogy(self.epochs, self.stepsize_b_smoothed, label=\"db--\")\n",
    "        plt.ylabel('Step Sizes (dw,db)')\n",
    "        plt.xlabel('Epochs')\n",
    "        xmax = self.epochs[-1]\n",
    "        if not ymin:\n",
    "            ymin = min(max(1e-5,np.min(self.stepsize_w_last)),max(1e-5,np.min(self.stepsize_b_last))) * 0.8\n",
    "        if not ymax:\n",
    "            ymax = max(np.max(self.stepsize_w_last),np.max(self.stepsize_b_last)) * 1.2\n",
    "        plt.axis([0,xmax,ymin,ymax])\n",
    "        plt.legend()\n",
    "        plt.show()        \n",
    " "
   ]
  },
  {
   "cell_type": "code",
   "execution_count": 112,
   "metadata": {},
   "outputs": [],
   "source": [
    "class MiniBatches():\n",
    "    \n",
    "    def __init__(self, x, y, batchsize):\n",
    "        self.x = x\n",
    "        self.y = y\n",
    "        m = x.shape[1]\n",
    "        if not batchsize:\n",
    "            self.batchsize = m\n",
    "        else:\n",
    "            self.batchsize = batchsize\n",
    "        self.n = x.shape[0]\n",
    "        self.mb = int(m/batchsize)\n",
    "        self.indices = np.arange(m)\n",
    "        np.random.shuffle(self.indices)\n",
    "        self.ib = 0\n",
    "        \n",
    "    def number_of_batches(self):\n",
    "        return self.mb\n",
    "        \n",
    "    def next(self):\n",
    "        it = self.indices[self.ib*batchsize:(self.ib+1)*batchsize]\n",
    "        xbatch = self.x[:,it].reshape(self.n,batchsize)\n",
    "        ybatch = self.y[:,it].reshape(1,batchsize)\n",
    "        self.ib += 1\n",
    "        return xbatch, ybatch\n"
   ]
  },
  {
   "cell_type": "markdown",
   "metadata": {},
   "source": [
    "#### Optimisation"
   ]
  },
  {
   "cell_type": "code",
   "execution_count": 113,
   "metadata": {
    "scrolled": true
   },
   "outputs": [],
   "source": [
    "import matplotlib.pyplot as plt\n",
    "%matplotlib inline\n",
    "\n",
    "def optimize(W, b, x_train, y_train, x_test, y_test, nepochs, alpha, batchsize=32, debug=True):\n",
    "    \"\"\"\n",
    "    This function optimizes W and b by running (mini-batch) gradient descent. It starts with the given \n",
    "    weights as initial values and then iteratively updates the parameters for nepochs number of times.\n",
    "    It returns the trained parameters as dictionary (keys \"W\" and \"b\") and various quantities \n",
    "    collected during learning in form of a Metrics object. You don't need to provide smoothing within \n",
    "    the epoch so that training will be somewhat faster.\n",
    "    \n",
    "    Arguments:\n",
    "    W -- weights, a numpy array of size (ny,nx)\n",
    "    b -- biases, a numpy array with shape (ny,1) (with ny=10 for MNIST).\n",
    "    x_train -- input data for training of shape (nx,m1)\n",
    "    y_train -- ground-truth labels - a numpy array with shape (1,m1)\n",
    "    x_test -- input data for training of shape (nx,m2)\n",
    "    y_test -- ground-truth labels - a numpy array with shape (1,m2)\n",
    "    nepochs -- number of iterations of the optimization loop\n",
    "    alpha -- learning rate of the gradient descent update rule\n",
    "    batchsize -- batch size, defaults to 32\n",
    "    debug -- if true prints training and test error values after each epoch. Defaults to True.\n",
    "    \n",
    "    Returns:\n",
    "    params -- dictionary containing the (final) weights w and bias b\n",
    "    metrics -- contain the information about the learning curves\n",
    "    \"\"\" \n",
    "    metrics = Metrics(cost = cost, smooth=False)\n",
    "\n",
    "    m = x_train.shape[1] # number of samples\n",
    "    nx = x_train.shape[0] # number of input features\n",
    "    mb = int(m/batchsize) # number of mini-batches\n",
    "    print(\"Optimisation with batchsize %i and %i number of batches per epoch.\"%(batchsize,mb))\n",
    "    \n",
    "    # compute and set the initial values for the metrics curves\n",
    "    ypred_train = predict(W,b,x_train)    \n",
    "    ypred_test = predict(W,b,x_test)\n",
    "    #print(\"x_test initial: \", x_test)\n",
    "    #print(\"ypred_test initial: \", ypred_test)\n",
    "    #image_xtest = x_test1[:,12]\n",
    "    #plt.imshow(np.reshape(image_xtest, (28,28)), cmap=plt.cm.gray)\n",
    "    #print(np.reshape(image_xtest, (28,28)))\n",
    "    #print(y_test[12])\n",
    "    metrics.update_iteration(ypred_train, y_train, ypred_test, y_test, 0, 0)\n",
    "    metrics.update_epoch(0)\n",
    "    \n",
    "    # Loop over the epochs    \n",
    "    for i in range(nepochs):\n",
    "                \n",
    "        # prepare shuffled mini-batches for this epoch\n",
    "        batches = MiniBatches(x_train, y_train, batchsize)\n",
    "        \n",
    "        #batch_counter = batches.number_of_batches()\n",
    "        \n",
    "        ### START YOUR CODE ### \n",
    "        for j in range(mb):\n",
    "        #while batch_counter > 0:\n",
    "            xbatch, ybatch = batches.next()\n",
    "            #print(\"xbatch.shape: \", xbatch.shape)\n",
    "            #print(\"ybatch.shape: \", ybatch.shape)\n",
    "            A = predict(W,b,xbatch)\n",
    "            #print(\"A.shape: \", A.shape)\n",
    "            #print(\"A: \", A)\n",
    "            #gradJ = gradient(x_train, y_train, A)\n",
    "            gradJ = gradient(xbatch, ybatch, A)\n",
    "            dw = alpha*gradJ[\"dW\"]\n",
    "            db = alpha*gradJ[\"db\"]\n",
    "            W = W - dw\n",
    "            b = b - db\n",
    "            #batch_counter -= 1\n",
    "            \n",
    "               \n",
    "        #ypred_train = predict(W,b,x_train)\n",
    "        #print(\"x_train epoch: \", x_train)\n",
    "        #J = cost(ypred_train, y_train)\n",
    "        #print(\"x_test epoch: \", x_test)\n",
    "        #ypred_testWRONG = predict(W,b,x_test)\n",
    "        #print(\"ypred_testWRONG: \",ypred_testWRONG)\n",
    "        #print(\"yPred_test.shape: \", ypred_test.shape)\n",
    "        #print(\"yPred_testWRONG: \", ypred_testWRONG)\n",
    "        #J = cost(ypred_testWRONG, y_test)\n",
    "        #metrics.update_iteration(ypred_train, y_train, ypred_testWRONG, y_test, np.linalg.norm(dw), np.linalg.norm(db))\n",
    "        ypred_train = predict(W,b,x_train)\n",
    "        ypred_testWRONG = predict(W,b,x_test)\n",
    "        metrics.update_iteration(ypred_train, y_train, ypred_testWRONG, y_test, np.linalg.norm(dw), np.linalg.norm(db))\n",
    "        metrics.update_epoch(i)\n",
    "        \n",
    "        ### END YOUR CODE ### \n",
    "            \n",
    "        if debug:\n",
    "            metrics.print_latest_errors()\n",
    "        \n",
    "    metrics.print_latest_costs()\n",
    "    metrics.print_latest_errors()\n",
    "\n",
    "    return {\"W\": W, \"b\": b}, metrics    "
   ]
  },
  {
   "cell_type": "markdown",
   "metadata": {},
   "source": [
    "### Run the Training for Specific Setting"
   ]
  },
  {
   "cell_type": "code",
   "execution_count": 114,
   "metadata": {
    "scrolled": true
   },
   "outputs": [
    {
     "name": "stdout",
     "output_type": "stream",
     "text": [
      "Loaded MNIST original:\n",
      "Image Data Shape (784, 70000)\n",
      "Label Data Shape (1, 70000)\n",
      "Shape training set:  (784, 56000) (1, 56000)\n",
      "Shape test set:      (784, 14000) (1, 14000)\n"
     ]
    }
   ],
   "source": [
    "# preparing the data\n",
    "x,y, shape = load_mnist(data_home)\n",
    "x_train1, x_test1, y_train, y_test = prepare_train_test(x, y, test_size=0.20)\n",
    "x_train,x_test = normalize(x_train1,x_test1)"
   ]
  },
  {
   "cell_type": "code",
   "execution_count": 115,
   "metadata": {
    "scrolled": true
   },
   "outputs": [
    {
     "name": "stdout",
     "output_type": "stream",
     "text": [
      "Optimisation with batchsize 256 and 218 number of batches per epoch.\n",
      "Train/test error after epoch 0: 0.136429, 0.140714\n",
      "Train/test error after epoch 1: 0.121125, 0.124357\n",
      "Train/test error after epoch 2: 0.112143, 0.116786\n",
      "Train/test error after epoch 3: 0.106714, 0.111929\n",
      "Train/test error after epoch 4: 0.102946, 0.108857\n",
      "Train/test error after epoch 5: 0.100179, 0.105643\n",
      "Train/test error after epoch 6: 0.098161, 0.103786\n",
      "Train/test error after epoch 7: 0.096125, 0.101714\n",
      "Train/test error after epoch 8: 0.094482, 0.100143\n",
      "Train/test error after epoch 9: 0.093643, 0.099071\n",
      "Train/test error after epoch 10: 0.092268, 0.097929\n",
      "Train/test error after epoch 11: 0.091071, 0.096643\n",
      "Train/test error after epoch 12: 0.090071, 0.094857\n",
      "Train/test error after epoch 13: 0.088804, 0.094286\n",
      "Train/test error after epoch 14: 0.088321, 0.094643\n",
      "Train/test error after epoch 15: 0.087482, 0.093500\n",
      "Train/test error after epoch 16: 0.086804, 0.092929\n",
      "Train/test error after epoch 17: 0.086232, 0.092000\n",
      "Train/test error after epoch 18: 0.085536, 0.091500\n",
      "Train/test error after epoch 19: 0.084679, 0.090714\n",
      "Train/test error after epoch 20: 0.084661, 0.090643\n",
      "Train/test error after epoch 21: 0.084500, 0.089786\n",
      "Train/test error after epoch 22: 0.083857, 0.090071\n",
      "Train/test error after epoch 23: 0.083089, 0.088786\n",
      "Train/test error after epoch 24: 0.083036, 0.088714\n",
      "Train/test error after epoch 25: 0.082214, 0.088714\n",
      "Train/test error after epoch 26: 0.082179, 0.087857\n",
      "Train/test error after epoch 27: 0.081714, 0.088000\n",
      "Train/test error after epoch 28: 0.081643, 0.088071\n",
      "Train/test error after epoch 29: 0.081393, 0.087071\n",
      "Train/test error after epoch 30: 0.080911, 0.087000\n",
      "Train/test error after epoch 31: 0.080696, 0.086714\n",
      "Train/test error after epoch 32: 0.080321, 0.086429\n",
      "Train/test error after epoch 33: 0.080357, 0.085643\n",
      "Train/test error after epoch 34: 0.079839, 0.085429\n",
      "Train/test error after epoch 35: 0.079625, 0.085571\n",
      "Train/test error after epoch 36: 0.079411, 0.085286\n",
      "Train/test error after epoch 37: 0.079429, 0.084857\n",
      "Train/test error after epoch 38: 0.079054, 0.085000\n",
      "Train/test error after epoch 39: 0.079161, 0.084857\n",
      "Train/test error after epoch 40: 0.078946, 0.084143\n",
      "Train/test error after epoch 41: 0.078446, 0.084071\n",
      "Train/test error after epoch 42: 0.078411, 0.083786\n",
      "Train/test error after epoch 43: 0.077982, 0.083643\n",
      "Train/test error after epoch 44: 0.078071, 0.083571\n",
      "Train/test error after epoch 45: 0.077821, 0.083357\n",
      "Train/test error after epoch 46: 0.077679, 0.083500\n",
      "Train/test error after epoch 47: 0.077500, 0.082857\n",
      "Train/test error after epoch 48: 0.077339, 0.083214\n",
      "Train/test error after epoch 49: 0.077179, 0.082714\n",
      "Train/test error after epoch 50: 0.076839, 0.082929\n",
      "Train/test error after epoch 51: 0.076696, 0.082500\n",
      "Train/test error after epoch 52: 0.076482, 0.082857\n",
      "Train/test error after epoch 53: 0.076286, 0.082571\n",
      "Train/test error after epoch 54: 0.076393, 0.083143\n",
      "Train/test error after epoch 55: 0.076018, 0.081714\n",
      "Train/test error after epoch 56: 0.075839, 0.082286\n",
      "Train/test error after epoch 57: 0.076036, 0.082500\n",
      "Train/test error after epoch 58: 0.075536, 0.081643\n",
      "Train/test error after epoch 59: 0.075625, 0.082214\n",
      "Train/test error after epoch 60: 0.075536, 0.082643\n",
      "Train/test error after epoch 61: 0.075250, 0.081714\n",
      "Train/test error after epoch 62: 0.075268, 0.082071\n",
      "Train/test error after epoch 63: 0.075107, 0.082143\n",
      "Train/test error after epoch 64: 0.075089, 0.082071\n",
      "Train/test error after epoch 65: 0.075071, 0.081714\n",
      "Train/test error after epoch 66: 0.074714, 0.081714\n",
      "Train/test error after epoch 67: 0.074429, 0.081071\n",
      "Train/test error after epoch 68: 0.074982, 0.081643\n",
      "Train/test error after epoch 69: 0.074482, 0.081071\n",
      "Train/test error after epoch 70: 0.074500, 0.081214\n",
      "Train/test error after epoch 71: 0.074607, 0.080857\n",
      "Train/test error after epoch 72: 0.074089, 0.081143\n",
      "Train/test error after epoch 73: 0.074196, 0.080643\n",
      "Train/test error after epoch 74: 0.074089, 0.080643\n",
      "Train/test error after epoch 75: 0.073946, 0.080571\n",
      "Train/test error after epoch 76: 0.073821, 0.081286\n",
      "Train/test error after epoch 77: 0.073714, 0.081000\n",
      "Train/test error after epoch 78: 0.073661, 0.080357\n",
      "Train/test error after epoch 79: 0.073304, 0.080786\n",
      "Train/test error after epoch 80: 0.073411, 0.080857\n",
      "Train/test error after epoch 81: 0.073571, 0.081071\n",
      "Train/test error after epoch 82: 0.073375, 0.080500\n",
      "Train/test error after epoch 83: 0.073232, 0.080286\n",
      "Train/test error after epoch 84: 0.073089, 0.080214\n",
      "Train/test error after epoch 85: 0.073179, 0.080643\n",
      "Train/test error after epoch 86: 0.072679, 0.080214\n",
      "Train/test error after epoch 87: 0.073179, 0.080929\n",
      "Train/test error after epoch 88: 0.073089, 0.080714\n",
      "Train/test error after epoch 89: 0.073018, 0.080071\n",
      "Train/test error after epoch 90: 0.072411, 0.080286\n",
      "Train/test error after epoch 91: 0.072946, 0.080500\n",
      "Train/test error after epoch 92: 0.072589, 0.080643\n",
      "Train/test error after epoch 93: 0.072393, 0.079714\n",
      "Train/test error after epoch 94: 0.072643, 0.080071\n",
      "Train/test error after epoch 95: 0.072196, 0.080000\n",
      "Train/test error after epoch 96: 0.072536, 0.080786\n",
      "Train/test error after epoch 97: 0.072571, 0.080500\n",
      "Train/test error after epoch 98: 0.072321, 0.079643\n",
      "Train/test error after epoch 99: 0.072018, 0.080071\n",
      "Train/test error after epoch 100: 0.071696, 0.080571\n",
      "Train/test error after epoch 101: 0.072732, 0.080429\n",
      "Train/test error after epoch 102: 0.071768, 0.080571\n",
      "Train/test error after epoch 103: 0.072018, 0.079929\n",
      "Train/test error after epoch 104: 0.071625, 0.080000\n",
      "Train/test error after epoch 105: 0.071946, 0.080286\n",
      "Train/test error after epoch 106: 0.071768, 0.080000\n",
      "Train/test error after epoch 107: 0.071929, 0.080714\n",
      "Train/test error after epoch 108: 0.071750, 0.080500\n",
      "Train/test error after epoch 109: 0.072018, 0.080500\n",
      "Train/test error after epoch 110: 0.071696, 0.080143\n",
      "Train/test error after epoch 111: 0.071643, 0.079857\n",
      "Train/test error after epoch 112: 0.071429, 0.080286\n",
      "Train/test error after epoch 113: 0.071411, 0.080643\n",
      "Train/test error after epoch 114: 0.071446, 0.079786\n",
      "Train/test error after epoch 115: 0.071696, 0.080571\n",
      "Train/test error after epoch 116: 0.071571, 0.080071\n",
      "Train/test error after epoch 117: 0.071482, 0.080143\n",
      "Train/test error after epoch 118: 0.071893, 0.080071\n",
      "Train/test error after epoch 119: 0.071464, 0.080000\n",
      "Train/test error after epoch 120: 0.071286, 0.080000\n",
      "Train/test error after epoch 121: 0.070875, 0.080286\n",
      "Train/test error after epoch 122: 0.071143, 0.080000\n",
      "Train/test error after epoch 123: 0.071000, 0.080571\n",
      "Train/test error after epoch 124: 0.071250, 0.079786\n",
      "Train/test error after epoch 125: 0.070946, 0.079500\n",
      "Train/test error after epoch 126: 0.070536, 0.080071\n",
      "Train/test error after epoch 127: 0.071268, 0.080071\n",
      "Train/test error after epoch 128: 0.070714, 0.080214\n",
      "Train/test error after epoch 129: 0.070964, 0.080000\n",
      "Train/test error after epoch 130: 0.070589, 0.079500\n",
      "Train/test error after epoch 131: 0.070982, 0.079429\n",
      "Train/test error after epoch 132: 0.070893, 0.080000\n",
      "Train/test error after epoch 133: 0.070804, 0.079500\n",
      "Train/test error after epoch 134: 0.070786, 0.079857\n",
      "Train/test error after epoch 135: 0.070607, 0.079429\n",
      "Train/test error after epoch 136: 0.070482, 0.079357\n",
      "Train/test error after epoch 137: 0.070375, 0.079929\n",
      "Train/test error after epoch 138: 0.070643, 0.079357\n",
      "Train/test error after epoch 139: 0.070214, 0.079643\n",
      "Train/test error after epoch 140: 0.070393, 0.079786\n",
      "Train/test error after epoch 141: 0.070018, 0.079643\n",
      "Train/test error after epoch 142: 0.070304, 0.079786\n",
      "Train/test error after epoch 143: 0.070286, 0.079643\n",
      "Train/test error after epoch 144: 0.070196, 0.079643\n",
      "Train/test error after epoch 145: 0.069857, 0.080071\n",
      "Train/test error after epoch 146: 0.070143, 0.079857\n",
      "Train/test error after epoch 147: 0.070000, 0.079500\n",
      "Train/test error after epoch 148: 0.070214, 0.079357\n",
      "Train/test error after epoch 149: 0.069964, 0.079643\n",
      "Train/test error after epoch 150: 0.070179, 0.079929\n",
      "Train/test error after epoch 151: 0.069893, 0.078929\n",
      "Train/test error after epoch 152: 0.069839, 0.079214\n",
      "Train/test error after epoch 153: 0.069982, 0.079214\n",
      "Train/test error after epoch 154: 0.069821, 0.079429\n",
      "Train/test error after epoch 155: 0.069607, 0.079571\n"
     ]
    },
    {
     "name": "stdout",
     "output_type": "stream",
     "text": [
      "Train/test error after epoch 156: 0.069375, 0.079286\n",
      "Train/test error after epoch 157: 0.069500, 0.080000\n",
      "Train/test error after epoch 158: 0.069643, 0.079500\n",
      "Train/test error after epoch 159: 0.069393, 0.079429\n",
      "Train/test error after epoch 160: 0.069304, 0.079643\n",
      "Train/test error after epoch 161: 0.069518, 0.079500\n",
      "Train/test error after epoch 162: 0.069375, 0.080000\n",
      "Train/test error after epoch 163: 0.069429, 0.079786\n",
      "Train/test error after epoch 164: 0.069339, 0.079214\n",
      "Train/test error after epoch 165: 0.069179, 0.078786\n",
      "Train/test error after epoch 166: 0.069179, 0.079643\n",
      "Train/test error after epoch 167: 0.069536, 0.080000\n",
      "Train/test error after epoch 168: 0.069250, 0.079500\n",
      "Train/test error after epoch 169: 0.069214, 0.079214\n",
      "Train/test error after epoch 170: 0.069339, 0.079857\n",
      "Train/test error after epoch 171: 0.069232, 0.079571\n",
      "Train/test error after epoch 172: 0.069000, 0.079071\n",
      "Train/test error after epoch 173: 0.069143, 0.079929\n",
      "Train/test error after epoch 174: 0.069232, 0.079071\n",
      "Train/test error after epoch 175: 0.068929, 0.080071\n",
      "Train/test error after epoch 176: 0.068821, 0.079357\n",
      "Train/test error after epoch 177: 0.069107, 0.080071\n",
      "Train/test error after epoch 178: 0.068946, 0.079429\n",
      "Train/test error after epoch 179: 0.068964, 0.079857\n",
      "Train/test error after epoch 180: 0.068625, 0.079643\n",
      "Train/test error after epoch 181: 0.069161, 0.079357\n",
      "Train/test error after epoch 182: 0.068536, 0.079000\n",
      "Train/test error after epoch 183: 0.068768, 0.079643\n",
      "Train/test error after epoch 184: 0.068518, 0.079214\n",
      "Train/test error after epoch 185: 0.068750, 0.079714\n",
      "Train/test error after epoch 186: 0.068411, 0.079214\n",
      "Train/test error after epoch 187: 0.068732, 0.079357\n",
      "Train/test error after epoch 188: 0.068482, 0.079143\n",
      "Train/test error after epoch 189: 0.068286, 0.079571\n",
      "Train/test error after epoch 190: 0.068536, 0.080071\n",
      "Train/test error after epoch 191: 0.068411, 0.080000\n",
      "Train/test error after epoch 192: 0.068482, 0.079571\n",
      "Train/test error after epoch 193: 0.068500, 0.079143\n",
      "Train/test error after epoch 194: 0.068714, 0.079786\n",
      "Train/test error after epoch 195: 0.068304, 0.079429\n",
      "Train/test error after epoch 196: 0.068393, 0.079000\n",
      "Train/test error after epoch 197: 0.068714, 0.079929\n",
      "Train/test error after epoch 198: 0.068232, 0.079214\n",
      "Train/test error after epoch 199: 0.068554, 0.080000\n",
      "Train/test cost after epoch 199: 0.248388, 0.288003\n",
      "Train/test error after epoch 199: 0.068554, 0.080000\n"
     ]
    }
   ],
   "source": [
    "### START YOUR CODE ### -- try different settings, ...\n",
    "\n",
    "learning_rate = 0.05\n",
    "nepochs = 200\n",
    "batchsize = 256\n",
    "W,b = initialize_params(28*28, 10, random=True)\n",
    "params, metrics = optimize(W, b, x_train, y_train, x_test, y_test, nepochs=nepochs, alpha = learning_rate, batchsize=batchsize, debug=True)\n",
    "\n",
    "### END YOUR CODE ### "
   ]
  },
  {
   "cell_type": "markdown",
   "metadata": {},
   "source": [
    "### Plot Learning Curves\n",
    "\n",
    "Cost <br>\n",
    "Error Rate <br>\n",
    "Learning Speed (Lenght of Parameter Change)<br>"
   ]
  },
  {
   "cell_type": "code",
   "execution_count": 116,
   "metadata": {
    "scrolled": true
   },
   "outputs": [
    {
     "data": {
      "image/png": "[encoded data removed]",
      "text/plain": [
       "<matplotlib.figure.Figure at 0x1b70043e438>"
      ]
     },
     "metadata": {},
     "output_type": "display_data"
    }
   ],
   "source": [
    "metrics.plot_cost_curves()"
   ]
  },
  {
   "cell_type": "code",
   "execution_count": 117,
   "metadata": {
    "scrolled": true
   },
   "outputs": [
    {
     "data": {
      "image/png": "[encoded data removed]",
      "text/plain": [
       "<matplotlib.figure.Figure at 0x1b722ec38d0>"
      ]
     },
     "metadata": {},
     "output_type": "display_data"
    },
    {
     "name": "stdout",
     "output_type": "stream",
     "text": [
      "Train/test error after epoch 199: 0.068554, 0.080000\n"
     ]
    }
   ],
   "source": [
    "metrics.plot_error_curves()\n",
    "metrics.print_latest_errors()"
   ]
  },
  {
   "cell_type": "code",
   "execution_count": 118,
   "metadata": {
    "scrolled": false
   },
   "outputs": [
    {
     "data": {
      "image/png": "[encoded data removed]",
      "text/plain": [
       "<matplotlib.figure.Figure at 0x1b701063ac8>"
      ]
     },
     "metadata": {},
     "output_type": "display_data"
    }
   ],
   "source": [
    "metrics.plot_stepsize_curves()"
   ]
  },
  {
   "cell_type": "markdown",
   "metadata": {},
   "source": [
    "### Describe your Findings for Exercise 1b\n",
    "\n",
    "By running the training with different settings for learning rate, number of epochs, batch size explore which combination is best suited to obtain good test performance. Keep an eye on random estimates for the error rates due to random parameter initialisation and randomly shuffled mini-batches. \n",
    "\n",
    "Specify your choice of these hyper-parameters and justify why you consider your choice best suited."
   ]
  },
  {
   "cell_type": "markdown",
   "metadata": {},
   "source": [
    "#### YOUR FINDINGS ...\n",
    "\n",
    "- \n",
    "- \n",
    "- \n",
    "- \n",
    "\n",
    "\n",
    "\n",
    "Comments just for the group:\n",
    "- It does not run as expected!\n",
    "--> it looks like it is overfitting because the train error gets smaller and smaller but the test error is at a minimum (not a good minimum!) after just ~5 epochs and is increasing after that!\n",
    "- there must be a mistake somewhere in the notebook\n",
    "- also the test cost is not a number after ~4-5 epochs --> why?\n",
    "- this leads to a wrong plot in the plot_cost_curve\n",
    "-  norm goes to infinety --> leads to nan in ypred -> \n",
    "   leads to nan in p -> leads to nan in ypred_test (only with test data!)\n",
    "   --> X test data must be flawed! x_test has the right shape (10,14000) \n",
    "   and consists of zeros"
   ]
  },
  {
   "cell_type": "markdown",
   "metadata": {},
   "source": [
    "#### Plot the Misclassified Images"
   ]
  },
  {
   "cell_type": "code",
   "execution_count": 119,
   "metadata": {
    "scrolled": false
   },
   "outputs": [
    {
     "name": "stdout",
     "output_type": "stream",
     "text": [
      "1120\n",
      "[[7 7 9 7 3 9 0 2 7 3 0 5 2 9 5 8 4 8 7 9 7 7 5 6 3]]\n",
      "[9 4 8 2 5 5 3 1 9 2 3 8 4 7 1 1 9 3 9 3 8 9 6 9 5]\n"
     ]
    },
    {
     "data": {
      "image/png": "[encoded data removed]",
      "text/plain": [
       "<matplotlib.figure.Figure at 0x1b71a36ee10>"
      ]
     },
     "metadata": {},
     "output_type": "display_data"
    }
   ],
   "source": [
    "y_pred = predict(params['W'], params['b'], x_test)\n",
    "yhat = np.argmax(y_pred, axis=0)\n",
    "indices = np.where(yhat != y_test)[1]\n",
    "print(len(indices))\n",
    "\n",
    "plot_digits(x_test, y_test, indices[0:25], shape)\n",
    "print(y_test[:,indices[0:25]])\n",
    "print(yhat[indices[0:25]])"
   ]
  },
  {
   "cell_type": "markdown",
   "metadata": {},
   "source": [
    "### Plot the Trained Weights as Image "
   ]
  },
  {
   "cell_type": "code",
   "execution_count": 120,
   "metadata": {},
   "outputs": [
    {
     "data": {
      "text/plain": [
       "[<matplotlib.lines.Line2D at 0x1b700a4f5c0>]"
      ]
     },
     "execution_count": 120,
     "metadata": {},
     "output_type": "execute_result"
    },
    {
     "data": {
      "image/png": "[encoded data removed]",
      "text/plain": [
       "<matplotlib.figure.Figure at 0x1b71a36ea58>"
      ]
     },
     "metadata": {},
     "output_type": "display_data"
    },
    {
     "data": {
      "image/png": "[encoded data removed]",
      "text/plain": [
       "<matplotlib.figure.Figure at 0x1b7000903c8>"
      ]
     },
     "metadata": {},
     "output_type": "display_data"
    }
   ],
   "source": [
    "weights = params['W']\n",
    "biases = params['b']\n",
    "cols = 5\n",
    "rows = 2\n",
    "plt.figure(figsize=(20,4*rows))\n",
    "for i in range(10):\n",
    "    plt.subplot(rows, cols, i+1)\n",
    "    plt.imshow(np.reshape(weights[i], (28,28)), cmap=plt.cm.gray)\n",
    "    plt.title('Digit %i'%i, fontsize = 12)\n",
    "\n",
    "plt.figure(figsize=(20,4))\n",
    "plt.plot(range(10), [biases[i] for i in range(10)], '+')\n"
   ]
  },
  {
   "cell_type": "code",
   "execution_count": null,
   "metadata": {},
   "outputs": [],
   "source": []
  }
 ],
 "metadata": {
  "kernelspec": {
   "display_name": "Python 3",
   "language": "python",
   "name": "python3"
  },
  "language_info": {
   "codemirror_mode": {
    "name": "ipython",
    "version": 3
   },
   "file_extension": ".py",
   "mimetype": "text/x-python",
   "name": "python",
   "nbconvert_exporter": "python",
   "pygments_lexer": "ipython3",
   "version": "3.6.4"
  }
 },
 "nbformat": 4,
 "nbformat_minor": 2
}
